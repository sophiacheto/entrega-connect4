{
 "cells": [
  {
   "cell_type": "markdown",
   "id": "ad5e8838-5eee-4da5-964d-54b584cfb857",
   "metadata": {},
   "source": [
    "###### Parte 2\n",
    "\n",
    "# Connect4 - Análise\n",
    "\n",
    "_O código completo (com execução pelo Pygame) está armazenado no seguinte repositório do GitHub: https://github.com/RobertGleison/connect4.git_\n",
    "\n"
   ]
  },
  {
   "cell_type": "markdown",
   "id": "6791e383-dbc4-4ad9-8ac3-80c1b480aff9",
   "metadata": {},
   "source": [
    "\n",
    "### _Integrantes:_\n",
    "   \n",
    "_Robert Gleison dos Reis Pereira (up202200496)_  \n",
    "_Sophia Cheto de Queiroz Fonseca (up202200336)_    \n",
    "_Guilherme Magalhães (up202205505)_  "
   ]
  },
  {
   "cell_type": "markdown",
   "id": "b7e87327-9f68-4b81-b14a-79adebacf88e",
   "metadata": {},
   "source": [
    "---\n",
    "\n",
    "# **Análises de Variáveis**\n",
    "\n",
    "Durante a implementação, precisamos escolher uma boa heurística e uma boa constante de equilíbrio entre Exploitation e Exploration para o MCTS.  \n",
    "Para isso, rodamos alguns testes para entendermos melhor a performance de cada um."
   ]
  },
  {
   "cell_type": "markdown",
   "id": "d7257c0b-914f-465a-95c1-840c79976b1d",
   "metadata": {},
   "source": [
    "### Heurística"
   ]
  },
  {
   "cell_type": "markdown",
   "id": "15e4971e-a89b-4b2a-9949-b2ebab3a83ae",
   "metadata": {},
   "source": [
    "Para a heurística, consideramos 3 opções:\n",
    "\n",
    "1. HEURISTÍCA 1: Score de uma sequência de 4 peças do oponente é 2 vezes maior que uma sequência de 4 peças do próprio jogador\n",
    "- Existem peças do Player 1 e do Player 2 = **0 pontos**\n",
    "- 1 peça do Player 2 = **1 ponto**\n",
    "- 2 peças do Player 2 = **10 pontos**\n",
    "- 3 peças do Player 2 = **50 pontos**\n",
    "- 4 peças do Player 2 = **1000 pontos**\n",
    "- 1 peça do Player 1 = **-1 ponto**\n",
    "- 2 peças do Player 1 = **-10 pontos**\n",
    "- 3 peças do Player 1 = **-50 pontos**\n",
    "- 4 peças do Player 1 = **-2000 pontos**\n",
    "\n",
    "2. HEURÍSTICA 2: Score de uma sequência de 4 peças do jogador é 2 vezes maior que uma sequência de 4 peças do oponente:\n",
    "- Existem peças do Player 1 e do Player 2 = **0 pontos**\n",
    "- 1 peça do Player 2 = **1 ponto**\n",
    "- 2 peças do Player 2 = **10 pontos**\n",
    "- 3 peças do Player 2 = **50 pontos**\n",
    "- 4 peças do Player 2 = **2000 pontos**\n",
    "- 1 peça do Player 1 = **-1 ponto**\n",
    "- 2 peças do Player 1 = **-10 pontos**\n",
    "- 3 peças do Player 1 = **-50 pontos**\n",
    "- 4 peças do Player 1 = **-1000 pontos**\n",
    "\n",
    "3. HEURÍSTICA 3: Todos os scores do oponente são dobrados:\n",
    "- Existem peças do Player 1 e do Player 2 = **0 pontos**\n",
    "- 1 peça do Player 2 = **1 ponto**\n",
    "- 2 peças do Player 2 = **10 pontos**\n",
    "- 3 peças do Player 2 = **50 pontos**\n",
    "- 4 peças do Player 2 = **1000 pontos**\n",
    "- 1 peça do Player 1 = **-2 ponto**\n",
    "- 2 peças do Player 1 = **-20 pontos**\n",
    "- 3 peças do Player 1 = **-100 pontos**\n",
    "- 4 peças do Player 1 = **-2000 pontos**"
   ]
  },
  {
   "cell_type": "markdown",
   "id": "b66090af",
   "metadata": {},
   "source": [
    "### Constante MCTS"
   ]
  },
  {
   "cell_type": "markdown",
   "id": "8756523c-ba2e-4400-b4c4-db2b5406990e",
   "metadata": {},
   "source": [
    "---\n",
    "\n",
    "# **Análise dos Algoritmos**"
   ]
  },
  {
   "cell_type": "markdown",
   "id": "89f2ba2e-6fe0-46bb-be36-a8fe39ea4f62",
   "metadata": {},
   "source": [
    "Nessa etapa, efetuamos diversos testes para analisar como cada algoritmo funciona para diferentes casos.  \n",
    "Utilizamos exemplos reais de estados, simulamos com a jogada da IA e analisamos o porquê de determinada coluna de jogada ter sido escolhida.\n",
    "\n",
    "**Informações da análise**  \n",
    "**Peças 1** = Movimentos feitos pelo humano  \n",
    "**Peças 2** = Movimentos feitos pela IA  \n",
    "**Estado_inicial** = Tabuleiro após a jogada humana  \n",
    "**Estado_seguinte** = Tabuleiro após jogada da IA"
   ]
  },
  {
   "cell_type": "markdown",
   "id": "1942b7de-f840-4f2d-acb7-504ed5e78bcd",
   "metadata": {},
   "source": [
    "## Análise do A*:\n",
    "O A* calcula o score do tabuleiro após cada uma das possíveis jogadas e, então, escolhe a coluna que gerou um score maior.\n",
    "O A* original é o mais rápido dos algoritmos implementados e tem um tempo de execução quase constante, uma vez que, a cada jogada, realiza apenas o cálculo de 7 versões de tabuleiro. Esse tempo começa a diminuir quando as colunas começam a encher, então são gerados menos tabuleiros para serem calculados."
   ]
  },
  {
   "cell_type": "markdown",
   "id": "c744e352-995b-449c-a04e-89d8c5a1bcdc",
   "metadata": {},
   "source": [
    "### Código utilizado:\n",
    "Na função principal do A*, medimos o tempo de execução com a biblioteca time e printamos as informações de cada coluna considerada:"
   ]
  },
  {
   "cell_type": "raw",
   "id": "9701719e-272e-4e74-a943-660484d6a6ac",
   "metadata": {},
   "source": [
    "def a_star(board: np.ndarray, ai_piece: int, opponent_piece: int) -> int:\n",
    "    start = time.time()\n",
    "    best_score = float('-inf')\n",
    "    best_move = -1\n",
    "    for col in game.available_moves(board):\n",
    "        simulated_board = game.simulate_move(board, ai_piece, col)\n",
    "        cur_score = h.calculate_board_score(simulated_board, ai_piece, opponent_piece)\n",
    "        print(f\"Coluna {col}: score {cur_score}\")\n",
    "        if cur_score > best_score:\n",
    "            best_move = col\n",
    "            best_score = cur_score\n",
    "    end = time.time()\n",
    "    print(f\"Tempo: {start-end}\")\n",
    "    return best_move"
   ]
  },
  {
   "cell_type": "markdown",
   "id": "67bc5640-50fa-42c1-9d8e-345c43bc8e84",
   "metadata": {},
   "source": [
    "\n",
    "  #### Análise 1: Início do jogo"
   ]
  },
  {
   "cell_type": "raw",
   "id": "899fa20b-dba1-4658-8dbb-a16858140af4",
   "metadata": {},
   "source": [
    "estado_inicial = [[0. 0. 0. 0. 0. 0. 0.]\n",
    "                  [0. 0. 0. 0. 0. 0. 0.]\n",
    "                  [0. 0. 0. 0. 0. 0. 0.]\n",
    "                  [0. 0. 0. 0. 0. 0. 0.]\n",
    "                  [0. 0. 0. 0. 0. 0. 0.]\n",
    "                  [0. 1. 0. 0. 0. 0. 0.]] \n",
    "\n",
    "estado_seguinte = [[0. 0. 0. 0. 0. 0. 0.]\n",
    "                   [0. 0. 0. 0. 0. 0. 0.]\n",
    "                   [0. 0. 0. 0. 0. 0. 0.]\n",
    "                   [0. 0. 0. 0. 0. 0. 0.]\n",
    "                   [0. 0. 0. 0. 0. 0. 0.]\n",
    "                   [0. 1. 0. 2. 0. 0. 0.]] "
   ]
  },
  {
   "cell_type": "markdown",
   "id": "4a255173-cd78-4c72-af75-9d493f716ff2",
   "metadata": {},
   "source": [
    "Resultado esperado: Espera-se que seja jogada uma peça no meio do tabuleiro, uma vez que, participando de mais segmentos de 4 espaços, conta para um score de heurística maior.\n",
    "\n",
    "Resultado obtido:"
   ]
  },
  {
   "cell_type": "raw",
   "id": "f0eb6110-ebc0-4de0-8c0e-5b936f740630",
   "metadata": {},
   "source": [
    "Score da coluna 1: score -1\n",
    "Score da coluna 2: score 2\n",
    "Score da coluna 3: score 1\n",
    "Score da coluna 4: score 3\n",
    "Score da coluna 5: score 1\n",
    "Score da coluna 6: score 0\n",
    "Score da coluna 7: score -1\n",
    "Tempo: 0.001190185546875"
   ]
  },
  {
   "cell_type": "markdown",
   "id": "019b4b6d-a252-4009-a0eb-1cc02650cb3e",
   "metadata": {},
   "source": [
    "\n",
    "  #### Análise 2: Movimento do A* para ganhar"
   ]
  },
  {
   "cell_type": "raw",
   "id": "2245dd96-57ad-4eb5-b8d5-17403cf6164c",
   "metadata": {},
   "source": [
    "estado inicial = [[0. 0. 0. 0. 0. 0. 0.]\n",
    "                  [0. 0. 0. 0. 0. 0. 0.]\n",
    "                  [0. 0. 0. 2. 0. 0. 0.]\n",
    "                  [0. 0. 1. 2. 1. 0. 0.]\n",
    "                  [0. 0. 1. 1. 2. 0. 0.]\n",
    "                  [0. 1. 1. 2. 2. 2. 1.]] \n",
    "\n",
    "estado_seguinte = [[0. 0. 0. 0. 0. 0. 0.]\n",
    "                   [0. 0. 0. 0. 0. 0. 0.]\n",
    "                   [0. 0. 2. 2. 0. 0. 0.]\n",
    "                   [0. 0. 1. 2. 1. 0. 0.]\n",
    "                   [0. 0. 1. 1. 2. 0. 0.]\n",
    "                   [0. 1. 1. 2. 2. 2. 1.]] "
   ]
  },
  {
   "cell_type": "markdown",
   "id": "6fb84222-abe2-4033-a943-a9771b203d26",
   "metadata": {},
   "source": [
    "Resultado esperado: Espera-se que seja jogada uma peça na coluna 3, para que ganhe o jogo.\n",
    "\n",
    "Resultado obtido:"
   ]
  },
  {
   "cell_type": "raw",
   "id": "365ef720-793f-4231-b587-69f297fece8f",
   "metadata": {},
   "source": [
    "Score da coluna 1: score -56\n",
    "Score da coluna 2: score -45\n",
    "Score da coluna 3: score 1032\n",
    "Score da coluna 4: score -9\n",
    "Score da coluna 5: score -18\n",
    "Score da coluna 6: score -47\n",
    "Score da coluna 7: score -54\n",
    "Tempo: 0.0010998249053955078"
   ]
  },
  {
   "cell_type": "markdown",
   "id": "3b83be74-ac5d-46ac-8b60-66efb4f2874a",
   "metadata": {},
   "source": [
    "Assim como o esperado, a jogada foi feita na coluna 3, pois o A* interpreta uma jogada vitoriosa como um grande avanço no seu score, que é o critério de escolha para as suas jogadas.  \n",
    "Aqui, percebe-se como, mesmo com o andamento do jogo quase pela metade, o tempo de execução permanece praticamente o mesmo, como foi mencionado no início."
   ]
  },
  {
   "cell_type": "markdown",
   "id": "6f058be0-7217-4cc2-a833-10f6347d8ac7",
   "metadata": {},
   "source": [
    "\n",
    "  #### Análise 3: Movimento do A* para impedir a vitória do oponente"
   ]
  },
  {
   "cell_type": "raw",
   "id": "313429ca-c566-49e2-9116-c1c73e702958",
   "metadata": {},
   "source": [
    "estado_inicial = [[0. 0. 0. 0. 0. 0. 0.]\n",
    "                  [0. 0. 0. 0. 0. 0. 0.]\n",
    "                  [0. 0. 0. 0. 0. 0. 0.]\n",
    "                  [0. 0. 0. 0. 0. 0. 0.]\n",
    "                  [0. 0. 2. 2. 0. 0. 0.]\n",
    "                  [0. 1. 1. 1. 0. 0. 0.]] \n",
    " \n",
    "\n",
    "estado_seguinte = [[0. 0. 0. 0. 0. 0. 0.]\n",
    "                   [0. 0. 0. 0. 0. 0. 0.]\n",
    "                   [0. 0. 0. 0. 0. 0. 0.]\n",
    "                   [0. 0. 0. 0. 0. 0. 0.]\n",
    "                   [0. 2. 2. 2. 0. 0. 0.]\n",
    "                   [0. 1. 1. 1. 0. 0. 0.]]"
   ]
  },
  {
   "cell_type": "markdown",
   "id": "10c48e0d-312d-40fc-b838-ad33ad6c022a",
   "metadata": {},
   "source": [
    "Resultado esperado: Espera-se que a IA jogue na coluna 5, para impedir a vitória do Player 1\n",
    "\n",
    "Resultado obtido:"
   ]
  },
  {
   "cell_type": "raw",
   "id": "549c1b0e-35ce-4bf2-b152-a67c15146186",
   "metadata": {},
   "source": [
    "Score da coluna 1: score -24\n",
    "Score da coluna 2: score 8\n",
    "Score da coluna 3: score -42\n",
    "Score da coluna 4: score -49\n",
    "Score da coluna 5: score -5\n",
    "Score da coluna 6: score -63\n",
    "Score da coluna 7: score -73\n",
    "Tempo: 0.0010809898376464844"
   ]
  },
  {
   "cell_type": "markdown",
   "id": "de5c81f8-1423-49bf-865f-99d782899a32",
   "metadata": {},
   "source": [
    "Aqui começamos a ver a deficiência do A*. Como ele não calcula a jogada do Player 1 seguinte à jogada que a IA fará, ele não consegue prever nem tentar atrapalhar o nosso jogo, a não ser que isso o beneficie em forma de heurística.  \n",
    "Nesse caso, completar uma sequência própria de 3 peças dá mais pontos à heurística (final = 8) do que atrapalhar a sequência de peças em formação do Player 2 (final = -5). Logo, a primeira opção é a escolhida."
   ]
  },
  {
   "cell_type": "markdown",
   "id": "5849d980-ebf1-40f0-8696-90869f34ad6e",
   "metadata": {},
   "source": [
    "### Conclusões sobre o A*  \n",
    "\n",
    "Apesar de se desempenhar relativamente bem ao tentar acumular pontos para si, o A* não é capaz de atrapalhar uma jogada do oponente se isso não gerar um benefício próprio em termos de heurística.\n",
    "\n",
    "Como não consegue prever uma jogada do oponente, o A* não é um algoritmo ideal para ser utilizado em jogos adversariais. Assim, resolvemos criar uma versão de A* que tente se adaptar a um jogo adversarial, que será mostrado a seguir."
   ]
  },
  {
   "cell_type": "markdown",
   "id": "58de6024-9acc-4024-b1a5-b93e51119aa1",
   "metadata": {},
   "source": [
    "---"
   ]
  },
  {
   "attachments": {},
   "cell_type": "markdown",
   "id": "4c7e2e52-8056-4d83-ae88-9cd3bac46aa6",
   "metadata": {},
   "source": [
    "## Análise do A* Adversarial:\n",
    "\n",
    "Enquanto o A* original vê apenas uma jogada à sua frente, o A* adversarial consegue ver duas. \n",
    "Em resumo, esse algoritmo simula todas as jogadas possíveis para a IA, partindo do estado atual, e calcula a melhor jogada do adversário para cada uma delas. Ao final, de acordo com o score gerado após essas duas jogadas (da IA e do oponente), é escolhido o que retorna o maior valor. Ou seja, é escolhida a jogada que mais beneficia a IA num range de 2 jogadas.\n",
    "Assim, o jogo consegue prever uma reação direta do adversário, conseguindo impedir a sua vitória iminente.\n",
    "\n",
    "Dessa maneira, o jogo se torna realmente mais \"jogável\" e é necessário realmente um pouco mais de raciocínio do jogador para ganhar.  \n",
    "Em termos de tempo de execução, o A* adversarial demora cerca de 7 vezes mais que o A* original, uma vez que o próprio A* é chamado 7 vezes dentro dessa nova função.\n",
    "\n",
    "\n"
   ]
  },
  {
   "cell_type": "markdown",
   "id": "38dc7240-46be-42ce-b911-0e211e3324dd",
   "metadata": {},
   "source": [
    "### Código utilizado"
   ]
  },
  {
   "cell_type": "raw",
   "id": "4249931e-798d-47e9-9fa5-e5c128653cf7",
   "metadata": {},
   "source": [
    "def a_star_adversarial(board: np.ndarray, ai_piece: int, opponent_piece: int) -> int:\n",
    "    start = time.time()\n",
    "    move_score = float('-inf')\n",
    "    best_move = -1\n",
    "    possible_moves = game.available_moves(board)\n",
    "    if len(possible_moves) == 1: return possible_moves[0]\n",
    "\n",
    "    for col in possible_moves:\n",
    "        simulated_board = game.simulate_move(board, ai_piece, col)\n",
    "        if game.winning_move(simulated_board, c.AI_PIECE): \n",
    "            print(f\"Coluna {col} vence o jogo!\")\n",
    "            return col\n",
    "        opponent_col = a_star(simulated_board, opponent_piece, ai_piece)  \n",
    "        opponent_simulated_board = game.simulate_move(simulated_board, opponent_piece, opponent_col)\n",
    "        cur_score = h.calculate_board_score(opponent_simulated_board, ai_piece, opponent_piece)\n",
    "        print(f\"Score da coluna {col+1}: score {cur_score}\")\n",
    "        print(f\"Melhor jogada do oponente a seguir: {opponent_col+1}\")\n",
    "        if cur_score > move_score:\n",
    "            best_move = col\n",
    "            move_score = cur_score\n",
    "    end = time.time()\n",
    "    print(f\"Tempo: {end-start}\")\n",
    "    return best_move"
   ]
  },
  {
   "cell_type": "markdown",
   "id": "6e71d8cc-7e15-47be-9e9e-806b125891a4",
   "metadata": {},
   "source": [
    "\n",
    "  #### Análise 1: Início do jogo"
   ]
  },
  {
   "cell_type": "raw",
   "id": "7f115a89-8c5c-4265-921c-5f93e751d6d3",
   "metadata": {},
   "source": [
    "estado_inicial = [[0. 0. 0. 0. 0. 0. 0.]\n",
    "                  [0. 0. 0. 0. 0. 0. 0.]\n",
    "                  [0. 0. 0. 0. 0. 0. 0.]\n",
    "                  [0. 0. 0. 0. 0. 0. 0.]\n",
    "                  [0. 0. 0. 0. 0. 0. 0.]\n",
    "                  [0. 1. 0. 0. 0. 0. 0.]] \n",
    "\n",
    "estado_seguinte = [[0. 0. 0. 0. 0. 0. 0.]\n",
    "                   [0. 0. 0. 0. 0. 0. 0.]\n",
    "                   [0. 0. 0. 0. 0. 0. 0.]\n",
    "                   [0. 0. 0. 0. 0. 0. 0.]\n",
    "                   [0. 0. 0. 0. 0. 0. 0.]\n",
    "                   [0. 1. 0. 2. 0. 0. 0.]] "
   ]
  },
  {
   "cell_type": "raw",
   "id": "37f2843b-b520-4ef0-9db9-bf63e38a964c",
   "metadata": {},
   "source": [
    "Score da coluna 1: score -15\n",
    "Melhor jogada do oponente a seguir: 2\n",
    "\n",
    "Score da coluna 2: score -21\n",
    "Melhor jogada do oponente a seguir: 4\n",
    "\n",
    "Score da coluna 3: score -15\n",
    "Melhor jogada do oponente a seguir: 3\n",
    "\n",
    "Score da coluna 4: score -11\n",
    "Melhor jogada do oponente a seguir: 2\n",
    "\n",
    "Score da coluna 5: score -13\n",
    "Melhor jogada do oponente a seguir: 2\n",
    "\n",
    "Score da coluna 6: score -23\n",
    "Melhor jogada do oponente a seguir: 4\n",
    "\n",
    "Score da coluna 7: score -24\n",
    "Melhor jogada do oponente a seguir: 4\n",
    "\n",
    "Tempo: 0.0072765350341796875"
   ]
  },
  {
   "cell_type": "markdown",
   "id": "0a87a9b4-1ecc-4d27-a656-6bc6a120af57",
   "metadata": {},
   "source": [
    "Assim como o esperado, o A* adversarial se comporta, incialmente, como o A* original."
   ]
  },
  {
   "cell_type": "markdown",
   "id": "9a9ad075-c15b-42ac-b4db-43a4511e5aa2",
   "metadata": {},
   "source": [
    "\n",
    "  #### Análise 2: Movimentação para ganhar"
   ]
  },
  {
   "cell_type": "raw",
   "id": "0c604155-777a-4524-a67d-30b295f42cb9",
   "metadata": {},
   "source": [
    "estado inicial = [[0. 0. 0. 0. 0. 0. 0.]\n",
    "                  [0. 0. 0. 0. 0. 0. 0.]\n",
    "                  [0. 0. 1. 2. 0. 0. 0.]\n",
    "                  [0. 2. 2. 2. 0. 0. 0.]\n",
    "                  [0. 1. 2. 1. 1. 0. 0.]\n",
    "                  [0. 1. 1. 2. 1. 0. 0.]] \n",
    "\n",
    "estado_seguinte = [[0. 0. 0. 0. 0. 0. 0.]\n",
    "                   [0. 0. 0. 0. 0. 0. 0.]\n",
    "                   [0. 0. 1. 2. 0. 0. 0.]\n",
    "                   [0. 2. 2. 2. 2. 0. 0.]\n",
    "                   [0. 1. 2. 1. 1. 0. 0.]\n",
    "                   [0. 1. 1. 2. 1. 0. 0.]] "
   ]
  },
  {
   "cell_type": "markdown",
   "id": "0dfa964d-86c2-4ff3-aa4e-b9d3a25e08a8",
   "metadata": {},
   "source": [
    "Score da coluna 1: score 3\n",
    "Melhor jogada do oponente a seguir: 5\n",
    "Score da coluna 2: score 12\n",
    "Melhor jogada do oponente a seguir: 5\n",
    "Score da coluna 3: score 6\n",
    "Melhor jogada do oponente a seguir: 5\n",
    "Score da coluna 4: score 48\n",
    "Melhor jogada do oponente a seguir: 5\n",
    "Score da coluna 5: score 1190\n",
    "Melhor jogada do oponente a seguir: 3\n",
    "Score da coluna 6: score 3\n",
    "Melhor jogada do oponente a seguir: 5\n",
    "Score da coluna 7: score 3\n",
    "Melhor jogada do oponente a seguir: 5\n",
    "Tempo: 0.005759477615356445"
   ]
  },
  {
   "cell_type": "markdown",
   "id": "d69a1907-7107-4dbe-a089-0490d105d6d6",
   "metadata": {},
   "source": [
    "Até então, sem novidades. Age como o A* original, mais uma vez, pois sempre escolhe a heurística com maior valor."
   ]
  },
  {
   "cell_type": "markdown",
   "id": "ca3a5036-1627-4a76-bc68-a1b6099b84c1",
   "metadata": {},
   "source": [
    "\n",
    "  #### Análise 3: Impedir a vitória do oponente"
   ]
  },
  {
   "cell_type": "raw",
   "id": "6224c590-f33f-433b-94a2-1086758fdaa7",
   "metadata": {},
   "source": [
    "estado_inicial = [[0. 0. 0. 0. 0. 0. 0.]\n",
    "                 [0. 0. 0. 0. 0. 0. 0.]\n",
    "                 [0. 0. 1. 2. 0. 0. 0.]\n",
    "                 [0. 0. 2. 1. 2. 0. 0.]\n",
    "                 [0. 0. 1. 2. 1. 0. 0.]\n",
    "                 [0. 0. 2. 1. 1. 0. 0.]] \n",
    "\n",
    "\n",
    "estado_seguinte = [[0. 0. 0. 0. 0. 0. 0.]\n",
    "                  [0. 0. 0. 0. 0. 0. 0.]\n",
    "                  [0. 0. 1. 2. 0. 0. 0.]\n",
    "                  [0. 0. 2. 1. 2. 0. 0.]\n",
    "                  [0. 0. 1. 2. 1. 0. 0.]\n",
    "                  [0. 0. 2. 1. 1. 0. 0.]] "
   ]
  },
  {
   "cell_type": "raw",
   "id": "f624bcda-5ce1-4d24-a01f-f81cb2f97267",
   "metadata": {},
   "source": [
    "Score da coluna 1: score -1981\n",
    "Melhor jogada do oponente a seguir: 6\n",
    "Score da coluna 2: score -2011\n",
    "Melhor jogada do oponente a seguir: 6\n",
    "Score da coluna 3: score -1938\n",
    "Melhor jogada do oponente a seguir: 6\n",
    "Score da coluna 4: score -2014\n",
    "Melhor jogada do oponente a seguir: 6\n",
    "Score da coluna 5: score -1981\n",
    "Melhor jogada do oponente a seguir: 6\n",
    "Score da coluna 6: score -63\n",
    "Melhor jogada do oponente a seguir: 5\n",
    "Score da coluna 7: score -1931\n",
    "Melhor jogada do oponente a seguir: 6\n",
    "Tempo: 0.005288362503051758"
   ]
  },
  {
   "cell_type": "markdown",
   "id": "c3397f4e-aba7-43a9-b21b-7d0109652a33",
   "metadata": {},
   "source": [
    "Nessa etapa, essa nova versão começa a se distinguir da anterior. Em todos os casos em que a IA escolha não jogar na 6a coluna, a melhor jogada seguinte para o humano é a na coluna 6, que o leva à vitória. Dessa forma, todos os scores ficam extremamente negativos, menos na coluna em que é possível impedir a vitória do oponente."
   ]
  },
  {
   "cell_type": "markdown",
   "id": "ab222786-f433-403d-862e-e475c8ce5e8f",
   "metadata": {},
   "source": [
    "\n",
    "  #### Análise 4: Escolher entre ganhar e impedir vitória"
   ]
  },
  {
   "cell_type": "raw",
   "id": "22d23192-2e8c-4a6c-80ed-3d3df85b15f8",
   "metadata": {},
   "source": [
    "estado_inicial = [[0. 0. 0. 0. 0. 0. 0.]\n",
    "                 [0. 0. 0. 0. 0. 0. 0.]\n",
    "                 [0. 0. 2. 2. 0. 0. 0.]\n",
    "                 [0. 0. 2. 1. 1. 0. 0.]\n",
    "                 [0. 0. 2. 1. 1. 0. 0.]\n",
    "                 [0. 0. 1. 2. 1. 0. 0.]] \n",
    "\n",
    "estado_seguinte = [[0. 0. 0. 0. 0. 0. 0.]\n",
    "                   [0. 0. 2. 0. 0. 0. 0.]\n",
    "                   [0. 0. 2. 2. 0. 0. 0.]\n",
    "                   [0. 0. 2. 1. 1. 0. 0.]\n",
    "                   [0. 0. 2. 1. 1. 0. 0.]\n",
    "                   [0. 0. 1. 2. 1. 0. 0.]] "
   ]
  },
  {
   "cell_type": "raw",
   "id": "a96c1800-6167-4729-8bd0-7641e0f478d5",
   "metadata": {},
   "source": [
    "Score da coluna 1: score -999\n",
    "Melhor jogada do oponente a seguir: 5\n",
    "\n",
    "Score da coluna 2: score -1039\n",
    "Melhor jogada do oponente a seguir: 5\n",
    "\n",
    "Coluna 3 vence o jogo!"
   ]
  },
  {
   "cell_type": "markdown",
   "id": "2bdf838f-557a-4527-a90a-859acac0db0e",
   "metadata": {},
   "source": [
    "Devido à checagem de vitória adicionada, ao passar pela simulação da coluna 3, a função já retorna diretamente o valor da coluna que levou à vitória.  \n",
    "Sem essa checagem, a IA procuraria a melhor jogada do oponente após a jogada da IA na coluna 3 e a vitória do oponente a seguir diminuiria o valor da heurística desse movimento, fazendo essa opção ser descartada. Então, a IA escolheria jogar na coluna 5, dando prioridade a impedir a vitória do oponente.\n"
   ]
  },
  {
   "cell_type": "markdown",
   "id": "f4c5a595-89d9-44c6-b8c9-c18b1c5969b8",
   "metadata": {},
   "source": [
    "### Conclusões sobre o A* Adversarial\n",
    "\n",
    "Com esse algoritmo, já é possível jogar contra a IA, porém ela não consegue elaborar jogadas mais complexas, que visam uma sequência de jogadas específica que leve a uma vitória. \n",
    "Para isso, seria necessário explorar os níveis seguintes dessa árvore, chamando recursivamente as funções utilizadas. No entanto, a cada chamada adicionada, o tempo de execução seria multiplicado por 7, gerando uma tendência exponencial à medida que mais níveis fossem explorados.\n",
    "Uma forma mais eficiente de fazer essa exploração é com o algoritmo Alpha Beta Pruning, que foi implementado e será analisado a seguir."
   ]
  },
  {
   "cell_type": "markdown",
   "id": "da182b7f-0c1b-4e90-9fdd-172dd2015217",
   "metadata": {},
   "source": [
    "---"
   ]
  },
  {
   "attachments": {},
   "cell_type": "markdown",
   "id": "3421479f-a4db-4b4e-a405-3ae57b9b7395",
   "metadata": {},
   "source": [
    "## Análise do AlphaBeta:\n",
    "Normalmente, o AlphaBeta com 4 níveis de profundidade é o suficiente para ganhar de um humano comum. Observa-se o número médio de nós percorridos é bem maior do que quando utilizamos uma profundidade de 3, e bem menor que uma profundidade de 5. Isso se deve à natureza do AlphaBeta, de ser um grafo em forma de àrvore. O tempo de execução é correlacionado com o número de nós percorridos. A capacidade de decisão de uma profundidade de 4 é bem maior que uma profundidade de 3, porém, em compensação, aumenta-se o tempo de execução.\n",
    "\n",
    "Ou seja, quanto maior o limite, melhor e mais demorada fica a resposta. \n",
    "\n"
   ]
  },
  {
   "cell_type": "markdown",
   "id": "3dc808b3-0528-476d-a824-a03489914483",
   "metadata": {},
   "source": [
    "### Código utilizado:\n",
    "Na função principal do AlphaBeta, medimos o tempo de execução com a biblioteca time, e os nós percorridos com uma variável global que recebe +1 em cada visita da função calculate() a um nó."
   ]
  },
  {
   "cell_type": "raw",
   "id": "6c6a6cc4-dcec-4f2f-af57-40d6d823b907",
   "metadata": {},
   "source": [
    "NODES_VISITED = 1\n",
    "\n",
    "\n",
    "def alpha_beta(board: np.ndarray):\n",
    "    \"\"\"Return the best column chose by alpha_beta algorithm\"\"\"\n",
    "    start_time = time.time()\n",
    "    global NODES_VISITED\n",
    "    NODES_VISITED = 1\n",
    "    children = get_children(board, AI_PIECE)\n",
    "    depth_limit = 3\n",
    "    best_move = -1\n",
    "    best_score = float('-inf')\n",
    "    for (child, col) in children:\n",
    "        if winning_move(child, AI_PIECE):\n",
    "            NODES_VISITED += 1\n",
    "            print(f\"Coluna {col+1} vence\")\n",
    "            best_move = col\n",
    "            break\n",
    "        score = calcular(child, 0, float('-inf'), float('+inf'), depth_limit, False)\n",
    "        print(f\"Score da Coluna {col+1}: {score}\")\n",
    "        if score > best_score:\n",
    "            best_score = score\n",
    "            best_move = col\n",
    "\n",
    "    end_time = time.time()\n",
    "    print(f\"Tempo de resposta = {end_time-start_time}\")\n",
    "    print(f\"Nós percorridos = {NODES_VISITED}\")\n",
    "    return best_move\n",
    "\n",
    "\n",
    "\n",
    "def calcular(board: np.ndarray, depth: int, alpha: int, beta: int, depth_limit: int, maximizing):\n",
    "    \"\"\"Return the accumulated score for the current move\"\"\"\n",
    "    global NODES_VISITED\n",
    "    NODES_VISITED += 1\n",
    "\n",
    "    if depth == depth_limit or winning_move(board, 1) or winning_move(board, 2):\n",
    "        return calculate_board_score(board, AI_PIECE, HUMAN_PIECE)\n",
    "    \n",
    "    if maximizing:\n",
    "        maxEval = float('-inf')\n",
    "        children = get_children(board, AI_PIECE)\n",
    "        for (child, col) in children:\n",
    "            eval = calculate(child, depth+1, alpha, beta, depth_limit, False)\n",
    "            maxEval = max(maxEval, eval)\n",
    "            alpha = max(alpha, eval)\n",
    "            if beta <= alpha:\n",
    "                break\n",
    "        return maxEval\n",
    "    \n",
    "    else:\n",
    "        minEval = float('+inf')\n",
    "        children = get_children(board, HUMAN_PIECE)\n",
    "        for (child, col) in children:\n",
    "            eval = calculate(child, depth+1, alpha, beta, depth_limit, True)\n",
    "            minEval = min(minEval, eval)\n",
    "            beta = min(beta, eval)\n",
    "            if beta <= alpha:\n",
    "                break\n",
    "        return minEval\n",
    "\n",
    "\n",
    "def get_children(board: np.ndarray, piece: int):\n",
    "    \"\"\"Return children of the actual state board\"\"\"\n",
    "    children = []\n",
    "    if available_moves(board) == -1: return  \n",
    "    for col in available_moves(board):  \n",
    "        copy_board = simulate_move(board, piece, col)   \n",
    "        children.append((copy_board, col)) \n",
    "    return children"
   ]
  },
  {
   "cell_type": "markdown",
   "id": "42d80471-6a55-470f-8b9e-6ae5171638b6",
   "metadata": {},
   "source": [
    "\n",
    "  #### Analise 1: Início do jogo"
   ]
  },
  {
   "cell_type": "raw",
   "id": "1091fd8a-cb0a-43c6-bf12-e6eea1f717a7",
   "metadata": {},
   "source": [
    "estado_inicial = [[0. 0. 0. 0. 0. 0. 0.]\n",
    "                  [0. 0. 0. 0. 0. 0. 0.]\n",
    "                  [0. 0. 0. 0. 0. 0. 0.]\n",
    "                  [0. 0. 0. 0. 0. 0. 0.]\n",
    "                  [0. 0. 0. 0. 0. 0. 0.]\n",
    "                  [0. 1. 0. 0. 0. 0. 0.]] \n",
    "\n",
    "escolha_ABeta =  [[0. 0. 0. 0. 0. 0. 0.]\n",
    "                  [0. 0. 0. 0. 0. 0. 0.]\n",
    "                  [0. 0. 0. 0. 0. 0. 0.]\n",
    "                  [0. 0. 0. 0. 0. 0. 0.]\n",
    "                  [0. 0. 0. 0. 0. 0. 0.]\n",
    "                  [0. 1. 0. 2. 0. 0. 0.]]\n"
   ]
  },
  {
   "cell_type": "markdown",
   "id": "7fdb51f0-2329-42b2-aafa-d4206a9e0a0a",
   "metadata": {},
   "source": [
    "Resultado esperado: No estado_inicial, é lógico que as colunas do meio possuem mais maneiras de formar segmentos de 4 peças e ganhar o jogo. Queremos que o AlphaBeta jogue na coluna 4.\n",
    "\n",
    "Resultado obtido: "
   ]
  },
  {
   "cell_type": "raw",
   "id": "39bfc5ed-0fc8-408d-9a4f-8523987d229f",
   "metadata": {},
   "source": [
    "--- PROFUNDIDADE 3 ---\n",
    "Score da Coluna 1: -1\n",
    "Score da Coluna 2: 5\n",
    "Score da Coluna 3: -2\n",
    "Score da Coluna 4: 13\n",
    "Score da Coluna 5: 5\n",
    "Score da Coluna 6: -1\n",
    "Score da Coluna 7: -1\n",
    "\n",
    "Tempo de resposta = 0.050627708435058594\n",
    "Nós percorridos = 277\n",
    "\n",
    "--- PROFUNDIDADE 4 ---\n",
    "Score da Coluna 1: -22\n",
    "Score da Coluna 2: -22\n",
    "Score da Coluna 3: -28\n",
    "Score da Coluna 4: -17\n",
    "Score da Coluna 5: -19\n",
    "Score da Coluna 6: -25\n",
    "Score da Coluna 7: -25\n",
    "\n",
    "Tempo de resposta = 0.17405438423156738\n",
    "Nõs percorridos = 1136\n",
    "\n",
    "\n",
    "--- PROFUNDIDADE 5 ---\n",
    "Score da Coluna 1: 1\n",
    "Score da Coluna 2: 8\n",
    "Score da Coluna 3: 11\n",
    "Score da Coluna 4: 16\n",
    "Score da Coluna 5: 11\n",
    "Score da Coluna 6: -7\n",
    "Score da Coluna 7: -7\n",
    "\n",
    "Tempo de resposta = 0.8379123210906982\n",
    "Nõs percorridos = 5572\n",
    "\n",
    "\n",
    "--- PROFUNDIDADE 6 ---\n",
    "Score da Coluna 1: -37\n",
    "Score da Coluna 2: -22\n",
    "Score da Coluna 3: -39\n",
    "Score da Coluna 4: -18\n",
    "Score da Coluna 5: -31\n",
    "Score da Coluna 6: -44\n",
    "Score da Coluna 7: -55\n",
    "\n",
    "Tempo de resposta = 2.9879350662231445\n",
    "Nõs percorridos = 20742\n"
   ]
  },
  {
   "cell_type": "markdown",
   "id": "e5d88a49-c3e7-496a-896e-e326a7d407b8",
   "metadata": {},
   "source": [
    "Resultado esperado igual ao resultado obtido. O AlphaBeta conseguiu visualizar o que queriamos e jogou no meio através de uma avaliação com scores da heurística.\n",
    "A partir da profundidade 3, o número de nós efetivamente percorridos já passa a ser muito menor do que o número de nós existentes na árvore com tal profundidade, devido ao prunning das branches que não nos interessam."
   ]
  },
  {
   "cell_type": "markdown",
   "id": "fa283fdc-454b-47c6-bda9-e50574d501fa",
   "metadata": {},
   "source": [
    "#### Analise 2: Movimento do AlphaBeta para ganhar"
   ]
  },
  {
   "cell_type": "raw",
   "id": "4ff4d080-97e2-4f3b-ab16-ec2535d8f507",
   "metadata": {},
   "source": [
    "estado_inicial = [[0. 0. 0. 0. 0. 0. 0.]\n",
    "                  [0. 0. 0. 0. 0. 0. 0.]\n",
    "                  [0. 0. 0. 0. 0. 0. 0.]\n",
    "                  [0. 2. 0. 0. 0. 0. 0.]\n",
    "                  [0. 2. 2. 0. 1. 1. 0.]\n",
    "                  [1. 2. 1. 2. 1. 1. 0.]] \n",
    "\n",
    "escolha_ABeta =  [[0. 0. 0. 0. 0. 0. 0.]\n",
    "                  [0. 0. 0. 0. 0. 0. 0.]\n",
    "                  [0. 2. 0. 0. 0. 0. 0.]\n",
    "                  [0. 2. 0. 0. 0. 0. 0.]\n",
    "                  [0. 2. 2. 0. 1. 1. 0.]\n",
    "                  [1. 2. 1. 2. 1. 1. 0.]] "
   ]
  },
  {
   "cell_type": "markdown",
   "id": "a81e41bf-a8bc-4bcb-95b2-412ce1ba12c0",
   "metadata": {},
   "source": [
    "Resultado esperado: No estado_inicial, o AlphaBeta tem a possibilidade de ganhar o jogo na coluna 2 com uma linha vertical de 4 peças. Queremos que ele jogue na coluna 2.\n",
    "\n",
    "Resultado obtido:"
   ]
  },
  {
   "cell_type": "raw",
   "id": "d5af7457-d8aa-4ce2-89ff-2586ea2fd1c8",
   "metadata": {},
   "source": [
    "--- PROFUNDIDADE 3 ---\n",
    "Score da Coluna 1: 1043\n",
    "Coluna 2 vence\n",
    "Tempo de resposta = 0.005127668380737305\n",
    "Nós percorridos = 39\n",
    "\n",
    "\n",
    "--- PROFUNDIDADE 4 ---\n",
    "Score da Coluna 1: 1043\n",
    "Coluna 2 vence\n",
    "Tempo de resposta = 0.01375436782836914\n",
    "Nós percorridos = 104\n",
    "\n",
    "\n",
    "--- PROFUNDIDADE 5 ---\n",
    "Score da Coluna 1: 1043\n",
    "Coluna 2 vence\n",
    "Tempo de resposta = 0.06622719764709473\n",
    "Nós percorridos = 385\n",
    "\n",
    "\n",
    "--- PROFUNDIDADE 6 ---\n",
    "Score da Coluna 1: 1043\n",
    "Coluna 2 vence\n",
    "Tempo de resposta = 0.07138299942016602\n",
    "Nós percorridos = 619\n"
   ]
  },
  {
   "cell_type": "markdown",
   "id": "a52cede9-38b4-4537-8079-2d695e0d523b",
   "metadata": {},
   "source": [
    "Resultado esperado igual ao resultado obtido. AlphaBeta jogou na coluna 2 e ganhou o jogo.  \n",
    "Como foi adicionada uma checagem de possíveis vitórias imediatas, a execução é interrompida ao checar a jogada na coluna 2. Então o score das colunas seguintes não é calculado."
   ]
  },
  {
   "cell_type": "markdown",
   "id": "1d673160-b36d-4127-b9f5-460a2a7f6f05",
   "metadata": {},
   "source": [
    "#### Analise 3: Movimento do AlphaBeta para impedir o oponente de ganhar"
   ]
  },
  {
   "cell_type": "raw",
   "id": "912adbc4-ae1f-4da9-8964-00374aa2618c",
   "metadata": {},
   "source": [
    "estado_inicial = [[0. 0. 0. 0. 0. 0. 0.]\n",
    "                  [0. 0. 0. 1. 0. 0. 0.]\n",
    "                  [0. 0. 0. 2. 0. 0. 0.]\n",
    "                  [0. 0. 0. 2. 2. 0. 0.]\n",
    "                  [0. 0. 0. 2. 1. 0. 0.]\n",
    "                  [1. 0. 1. 1. 2. 1. 0.]] \n",
    "\n",
    "escolha A.Beta = [[0. 0. 0. 0. 0. 0. 0.]\n",
    "                  [0. 0. 0. 1. 0. 0. 0.]\n",
    "                  [0. 0. 0. 2. 0. 0. 0.]\n",
    "                  [0. 0. 0. 2. 2. 0. 0.]\n",
    "                  [0. 0. 0. 2. 1. 0. 0.]\n",
    "                  [1. 2. 1. 1. 2. 1. 0.]] "
   ]
  },
  {
   "cell_type": "markdown",
   "id": "bb06bd13-0d81-48b2-9d75-a5b71cf48efe",
   "metadata": {},
   "source": [
    "Resultado esperado: No estado_inicial, nós do grupo, podemos ganhar o jogo caso joguemos na coluna 2 na próxima rodada. Queremos que ele nos impeça de ganhar na coluna 2.\n",
    "\n",
    "Resultado obtido:"
   ]
  },
  {
   "cell_type": "raw",
   "id": "ed9b681f-7c4c-4da2-9bd6-47c3b120f93e",
   "metadata": {},
   "source": [
    "--- PROFUNDIDADE 3 ---\n",
    "Score da Coluna 1: -1918\n",
    "Score da Coluna 2: 130\n",
    "Score da Coluna 3: -1909\n",
    "Score da Coluna 4: -1924\n",
    "Score da Coluna 5: -1874\n",
    "Score da Coluna 6: -1848\n",
    "Score da Coluna 7: -1889\n",
    "Tempo de resposta = 0.028558969497680664\n",
    "Nós percorridos = 160\n",
    "\n",
    "\n",
    "--- PROFUNDIDADE 4 ---\n",
    "Score da Coluna 1: -1918\n",
    "Score da Coluna 2: 40\n",
    "Score da Coluna 3: -1909\n",
    "Score da Coluna 4: -1924\n",
    "Score da Coluna 5: -1874\n",
    "Score da Coluna 6: -1848\n",
    "Score da Coluna 7: -1889\n",
    "Tempo de resposta = 0.11961603164672852\n",
    "Nós percorridos = 765\n",
    "\n",
    "\n",
    "--- PROFUNDIDADE 5 ---\n",
    "Score da Coluna 1: -1918\n",
    "Score da Coluna 2: 199\n",
    "Score da Coluna 3: -1909\n",
    "Score da Coluna 4: -1924\n",
    "Score da Coluna 5: -1874\n",
    "Score da Coluna 6: -1848\n",
    "Score da Coluna 7: -1889\n",
    "Tempo de resposta = 0.320941686630249\n",
    "Nós percorridos = 2429\n",
    "\n",
    "\n",
    "--- PROFUNDIDADE 6 ---\n",
    "Score da Coluna 1: -1918\n",
    "Score da Coluna 2: 138\n",
    "Score da Coluna 3: -1909\n",
    "Score da Coluna 4: -1924\n",
    "Score da Coluna 5: -1874\n",
    "Score da Coluna 6: -1848\n",
    "Score da Coluna 7: -1889\n",
    "Tempo de resposta = 1.329406499862671\n",
    "Nós percorridos = 10220\n"
   ]
  },
  {
   "cell_type": "markdown",
   "id": "9d5dc918-2ab1-4d83-ba40-8ecde17d8284",
   "metadata": {},
   "source": [
    "Resultado esperado igual ao resultado obtido. O AlphaBeta conseguiu ver a possibilidade e nos impediu, como esperado. O número de nós foi menor que o normal (em comparação, por exemplo, com a jogada inicial mostrada acima), assim como o tempo de resposta, devido ao fato do valor de score máximo estar na segunda coluna. Assim, os prunes puderam ser feitos nas colunas subsequentes."
   ]
  },
  {
   "cell_type": "markdown",
   "id": "4055e3a3-0c23-422c-a0f7-530a96454ff0",
   "metadata": {},
   "source": [
    "#### Analise 4: Situação de vitória ou derrota"
   ]
  },
  {
   "cell_type": "raw",
   "id": "63180997-461d-4432-9587-30f046df2767",
   "metadata": {},
   "source": [
    "estado_inicial = [[0. 0. 0. 0. 0. 0. 0.]\n",
    "                  [1. 0. 0. 0. 1. 0. 0.]\n",
    "                  [2. 0. 0. 2. 2. 0. 0.]\n",
    "                  [1. 1. 2. 2. 2. 0. 0.]\n",
    "                  [1. 1. 2. 1. 2. 0. 0.]\n",
    "                  [1. 1. 1. 2. 1. 2. 0.]] \n",
    "\n",
    "escolha_ABeta =  [[0. 0. 0. 0. 0. 0. 0.]\n",
    "                  [1. 0. 0. 0. 1. 0. 0.]\n",
    "                  [2. 0. 2. 2. 2. 0. 0.]\n",
    "                  [1. 1. 2. 2. 2. 0. 0.]\n",
    "                  [1. 1. 2. 1. 2. 0. 0.]\n",
    "                  [1. 1. 1. 2. 1. 2. 0.]] "
   ]
  },
  {
   "cell_type": "markdown",
   "id": "96637c19-edf5-432c-8564-4d9fe4bc4141",
   "metadata": {},
   "source": [
    "Resultado esperado: No estado_inicial, o AlphaBeta está numa situação de que ele tem que escolher entre ganhar se jogar na coluna 3, ou nos impedir de ganhar na próxima rodada jogando na coluna 2. Queremos que ele opte por ganhar, na coluna 3.\n",
    "\n",
    "Resultado obtido:"
   ]
  },
  {
   "cell_type": "raw",
   "id": "5396d23e-807c-4118-b882-e0ac74ed9c4a",
   "metadata": {},
   "source": [
    "--- PROFUNDIDADE 3 ---\n",
    "Score da Coluna 1: -1811\n",
    "Score da Coluna 2: 240\n",
    "Coluna 3 vence\n",
    "Tempo de resposta = 0.006130218505859375\n",
    "Nós percorridos = 46\n",
    "\n",
    "\n",
    "--- PROFUNDIDADE 4 ---\n",
    "Score da Coluna 1: -1829\n",
    "Score da Coluna 2: 177\n",
    "Coluna 3 vence\n",
    "Tempo de resposta = 0.030198335647583008\n",
    "Nós percorridos = 212\n",
    "\n",
    "\n",
    "--- PROFUNDIDADE 5 ---\n",
    "Score da Coluna 1: -1829\n",
    "Score da Coluna 2: 267\n",
    "Coluna 3 vence\n",
    "Tempo de resposta = 0.07889389991760254\n",
    "Nós percorridos = 576\n",
    "\n",
    "\n",
    "--- PROFUNDIDADE 6 ---\n",
    "Score da Coluna 1: -1829\n",
    "Score da Coluna 2: 195\n",
    "Coluna 3 vence\n",
    "Tempo de resposta = 0.22335052490234375\n",
    "Nós percorridos = 1765"
   ]
  },
  {
   "cell_type": "markdown",
   "id": "030e17fe-949f-42cc-8caf-8485f9655b92",
   "metadata": {},
   "source": [
    "Resultado esperado igual ao resultado obtido. Podemos perceber que a coluna 2 também é considerada uma boa jogada, pois tem uma pontuação positiva, mas a jogada para ganhar sempre será priorizada, inclusive interrompendo a busca por outras possibilidades. Assim, o tempo e os nós percorridos foram muito menores."
   ]
  },
  {
   "cell_type": "markdown",
   "id": "f2f890e0-72b6-4274-850e-bd837d32654d",
   "metadata": {},
   "source": [
    "### Conclusões sobre o Alpha Beta:\n",
    "\n",
    "Esse algoritmo, em todos os nossos testes, foi perfeitamente suficiente para jogar contra um humano, mesmo que ele tente elaborar uma estratégia mais complexa, que envolva uma sequência de jogadas.  \n",
    "Infelizmente, esse algoritmo precisa de um limite de níveis a serem explorados, para que o tempo de execução seja viável de ser aplicado numa interação com um humano. Assim, mesmo atuando como uma forma eficaz de criação da árvore, ainda não é possível explorá-la até a sua profundidade máxima.  \n",
    "Para esse tipo de abordagem, com o intuito de explorar melhor a profundidade da árvore, foi implementado o Monte Carlo Tree Search, a seguir."
   ]
  },
  {
   "cell_type": "markdown",
   "id": "b42744fd-0de7-4acc-9bad-bc806560abfe",
   "metadata": {},
   "source": [
    "## Análise do MCTS:\n",
    "\n",
    "Num geral, o MCTS com 3 segundos como limite já o é o suficiente para ganhar de humanos comuns, mas sofre um pouco com outros algorítmos adversáriais, como o AlphaBeta e o A* Adversarial. Para esse de teste, estamos jogando contra o MCTS com 3 e 6 segundos de limite e utilizando a constante = raiz de 2, para balanceamento entre Exploitation and Exploration.\n",
    "\n",
    "\n",
    "**Vitórias:** Número de vitórias da IA que partiam desse nó  \n",
    "**Total:** Número de jogos simulados com esse nó  \n",
    "**Pontuação:** Pontuação UCB do nó  \n",
    "**Probabilidade de vitória:** Vitórias / Visitas"
   ]
  },
  {
   "cell_type": "markdown",
   "id": "e8f19153-abde-4fd9-bf6b-c789d2af144c",
   "metadata": {},
   "source": [
    "### Código utilizado:\n",
    "\n",
    "Adicionamos à classe *Node* a função *str* abaixo. Assim, ao fim da execução de uma rodada, printamos as seguintes informações sobre cada jogada possível a ser feita.  "
   ]
  },
  {
   "cell_type": "raw",
   "id": "837a3162-38b7-44a1-8318-12493479a519",
   "metadata": {},
   "source": [
    "def __str__(self) -> str:\n",
    "        string += \"Vitórias: \" + str(self.wins) + '\\n'\n",
    "        string += \"Total: \" + str(self.visits) + '\\n'\n",
    "        string += \"Pontuação: \" + str(self.ucb()) + '\\n'\n",
    "        string += \"Probabilidade de vitória: \" + str(self.score()) + '\\n'\n",
    "        return string"
   ]
  },
  {
   "cell_type": "markdown",
   "id": "2c36bc09-cb9a-4c00-b37f-c0ef93138769",
   "metadata": {},
   "source": [
    "### MCTS - 3 segundos:"
   ]
  },
  {
   "cell_type": "markdown",
   "id": "70a74ec5-ed1a-41e9-b2e6-d59d9af0d498",
   "metadata": {},
   "source": [
    "\n",
    "  #### Analise 1: Início do jogo"
   ]
  },
  {
   "cell_type": "raw",
   "id": "391a653d-262b-44ad-a7f9-e117cde567e5",
   "metadata": {},
   "source": [
    "estado_inicial =  [[0, 0, 0, 0, 0, 0, 0],\n",
    "                   [0, 0, 0, 0, 0, 0, 0],\n",
    "                   [0, 0, 0, 0, 0, 0, 0],\n",
    "                   [0, 0, 0, 0, 0, 0, 0],\n",
    "                   [0, 0, 0, 0, 0, 0, 0],\n",
    "                   [0, 0, 0, 1, 0, 0, 0]]\n",
    "\n",
    "escolha_MCTS =    [[0, 0, 0, 0, 0, 0, 0],\n",
    "                   [0, 0, 0, 0, 0, 0, 0],\n",
    "                   [0, 0, 0, 0, 0, 0, 0],\n",
    "                   [0, 0, 0, 0, 0, 0, 0],\n",
    "                   [0, 0, 0, 0, 0, 0, 0],\n",
    "                   [0, 0, 0, 1, 2, 0, 0]]"
   ]
  },
  {
   "cell_type": "markdown",
   "id": "76931eb5-ec1e-4d04-8f07-48ae6aa6637e",
   "metadata": {},
   "source": [
    "Resultado esperado: No estado_inicial apresentado, é suposto que o MCTS tenda a jogar nas posições do meio devido à uma maior facilidade de gerar segmentos de 4 peças identicas em diversas posições. Nós, como jogadores, escolhemos a coluna com maior probabilidade de gerar combinações, a coluna 4.\n",
    "\n",
    "Resultado obtido:"
   ]
  },
  {
   "cell_type": "raw",
   "id": "dd426ee9-10e3-4f41-b5d4-f0ee3957ad7a",
   "metadata": {},
   "source": [
    "Coluna: 1  \n",
    "Vitórias: 136  \n",
    "Simulações: 643  \n",
    "Pontuação: 3.0497963889083826  \n",
    "Probabilidade de vitória: 0.2115085536547434  \n",
    " \n",
    "Coluna: 2  \n",
    "Vitórias: 187  \n",
    "Simulações: 696  \n",
    "Pontuação: 3.0505944233835254  \n",
    "Probabilidade de vitória: 0.2686781609195402  \n",
    " \n",
    "Coluna: 3  \n",
    "Simulações: 702  \n",
    "Pontuação: 3.049242574676778  \n",
    "Probabilidade de vitória: 0.27350427350427353  \n",
    " \n",
    "Coluna: 4  \n",
    "Vitórias: 193  \n",
    "Simulações: 703  \n",
    "Pontuação: 3.0492501429362875  \n",
    "Probabilidade de vitória: 0.27453769559032715  \n",
    " \n",
    "Coluna: 5  \n",
    "Vitórias: 231  \n",
    "Simulações: 740  \n",
    "Pontuação: 3.0496529818557017  \n",
    "Probabilidade de vitória: 0.31216216216216214  \n",
    " \n",
    "Coluna: 6  \n",
    "Vitórias: 171  \n",
    "Simulações: 680  \n",
    "Pontuação: 3.050056934950124  \n",
    "Probabilidade de vitória: 0.2514705882352941  \n",
    " \n",
    "Coluna: 7  \n",
    "Vitórias: 145  \n",
    "Simulações: 653  \n",
    "Pontuação: 3.0494445437795874   \n",
    "Probabilidade de vitória: 0.222052067381317  "
   ]
  },
  {
   "cell_type": "markdown",
   "id": "d9fc3af6-5ca7-4d80-8488-549d56650647",
   "metadata": {},
   "source": [
    "Resultado esperado igual ao resultado obtido. Baseado na probabilidade de vitória, o estado escolhido foi o 5, com a maior probabilidade de vitória = 0.31216, e está relacionado à coluna 5. Resultado dentro do esperado, pois jogou em colunas centrais."
   ]
  },
  {
   "cell_type": "markdown",
   "id": "2df449aa-6cbc-4199-8c78-3e4694a6d33c",
   "metadata": {},
   "source": [
    "#### Análise 2: Movimento do MCTS para ganhar"
   ]
  },
  {
   "cell_type": "raw",
   "id": "86687ef4-7cfb-445a-8cb3-33453304de8a",
   "metadata": {},
   "source": [
    "estado_inicial =  [[0. 0. 0. 0. 0. 0. 0.]\n",
    "                   [0. 0. 0. 1. 0. 0. 0.]\n",
    "                   [0. 0. 0. 2. 2. 0. 0.]\n",
    "                   [0. 0. 0. 2. 1. 2. 0.]\n",
    "                   [0. 0. 0. 2. 1. 1. 0.]\n",
    "                   [1. 2. 1. 1. 2. 1. 0.]] \n",
    "\n",
    "escolha_MCTS =    [[0. 0. 0. 0. 0. 0. 0.]\n",
    "                   [0. 0. 0. 1. 0. 0. 0.]\n",
    "                   [0. 0. 0. 2. 2. 0. 0.]\n",
    "                   [0. 0. 0. 2. 1. 2. 0.]\n",
    "                   [0. 0. 2. 2. 1. 1. 0.]\n",
    "                   [1. 2. 1. 1. 2. 1. 0.]]\n"
   ]
  },
  {
   "cell_type": "markdown",
   "id": "07bbe8b9-9b2a-494e-98c3-62c788b76118",
   "metadata": {},
   "source": [
    "Resultado esperado: No estado_inicial, temos o jogo mais avançado e o MCTS tem uma possibilidade de ganhar caso jogue na coluna 3, fazendo uma diagonal de peças. Queremos que ele jogue na coluna 3.\n",
    "\n",
    "Resultado obtido:"
   ]
  },
  {
   "cell_type": "raw",
   "id": "db663b45-147c-41f7-acdd-8f2c0c30ac94",
   "metadata": {},
   "source": [
    "Coluna: 1\n",
    "Vitórias: 758\n",
    "Total: 1012\n",
    "Pontuação: 3.593591114739693\n",
    "Probabilidade de vitória: 0.7490118577075099\n",
    " \n",
    "Coluna: 2\n",
    "Vitórias: 765\n",
    "Total: 1017\n",
    "Pontuação: 3.5933243133872512\n",
    "Probabilidade de vitória: 0.7522123893805309\n",
    "\n",
    "Coluna: 3\n",
    "Vitórias: 1424\n",
    "Total: 1424\n",
    "Pontuação: 3.5933503776080324\n",
    "Probabilidade de vitória: 1.0\n",
    "\n",
    "Coluna: 4\n",
    "Vitórias: 740\n",
    "Total: 1000\n",
    "Pontuação: 3.5929538084236237\n",
    "Probabilidade de vitória: 0.74\n",
    "\n",
    "Coluna: 5\n",
    "Vitórias: 842\n",
    "Total: 1069\n",
    "Pontuação: 3.5934408316513915\n",
    "Probabilidade de vitória: 0.7876520112254444\n",
    "\n",
    "Coluna: 6\n",
    "Vitórias: 960\n",
    "Total: 1146\n",
    "Pontuação: 3.5934602872030026\n",
    "Probabilidade de vitória: 0.837696335078534\n",
    "\n",
    "Coluna: 7\n",
    "Vitórias: 715\n",
    "Total: 982\n",
    "Pontuação: 3.5937648733768137\n",
    "Probabilidade de vitória: 0.7281059063136456"
   ]
  },
  {
   "cell_type": "markdown",
   "id": "23170a10-4ab9-4e52-a1e2-a019b90c60a0",
   "metadata": {},
   "source": [
    "Resultado obtido igual ao esperado. Baseado na probabilidade de vitória, o estado escolhido foi o 3, com a maior probabilidade de vitória = 1.0, e está relacionado à coluna 3. O MCTS ganhou o jogo.\n"
   ]
  },
  {
   "cell_type": "markdown",
   "id": "9d2b36e9-c20f-438c-969e-a8e71342ecfa",
   "metadata": {},
   "source": [
    "#### Análise 3: Movimento do MCTS para impedir o oponente de ganhar"
   ]
  },
  {
   "cell_type": "raw",
   "id": "57da6f6e-c534-48cc-a1d8-ccae978b3af3",
   "metadata": {},
   "source": [
    "estado_inicial =  [[0. 0. 0. 0. 0. 0. 0.]\n",
    "                   [0. 0. 0. 0. 0. 0. 0.]\n",
    "                   [0. 0. 0. 1. 0. 0. 0.]\n",
    "                   [0. 0. 0. 2. 0. 2. 0.]\n",
    "                   [0. 0. 0. 2. 1. 1. 0.]\n",
    "                   [2. 0. 0. 2. 1. 1. 1.]] \n",
    "\n",
    "escolha_MCTS =    [[0. 0. 0. 0. 0. 0. 0.]\n",
    "                   [0. 0. 0. 0. 0. 0. 0.]\n",
    "                   [0. 0. 0. 1. 0. 0. 0.]\n",
    "                   [0. 0. 0. 2. 2. 2. 0.]\n",
    "                   [0. 0. 0. 2. 1. 1. 0.]\n",
    "                   [2. 0. 0. 2. 1. 1. 1.]] "
   ]
  },
  {
   "cell_type": "markdown",
   "id": "fe8ea69a-3c89-4ede-992f-b6c50258c2ce",
   "metadata": {},
   "source": [
    "Resultado esperado: No estado_inicia, nosso grupo tem a possibilidade de vencer o jogo na próxima rodada com uma diagonal, jogando na coluna 5. Queremos que o MCTS não permita isso e jogue na coluna 5.\n",
    "\n",
    "Resultado obtido:"
   ]
  },
  {
   "cell_type": "raw",
   "id": "2c14dbed-b16f-4207-81a5-b6b88858af05",
   "metadata": {},
   "source": [
    "Coluna: 1\n",
    "Vitórias: 595\n",
    "Total: 1065\n",
    "Pontuação: 3.383927691256513\n",
    "Probabilidade de vitória: 0.5586854460093896\n",
    " \n",
    "Coluna: 2\n",
    "Vitórias: 669\n",
    "Total: 1122\n",
    "Pontuação: 3.384345942850208\n",
    "Probabilidade de vitória: 0.5962566844919787\n",
    " \n",
    "Coluna: 3\n",
    "Vitórias: 653\n",
    "Total: 1110\n",
    "Pontuação: 3.384080283354729\n",
    "Probabilidade de vitória: 0.5882882882882883\n",
    "\n",
    "Coluna: 4\n",
    "Vitórias: 482\n",
    "Total: 973\n",
    "Pontuação: 3.3838656907103046\n",
    "Probabilidade de vitória: 0.49537512846865367\n",
    " \n",
    "Coluna: 5\n",
    "Vitórias: 1318\n",
    "Total: 1561\n",
    "Pontuação: 3.3845247181899514\n",
    "Probabilidade de vitória: 0.8443305573350416\n",
    " \n",
    "Coluna: 6\n",
    "Vitórias: 562\n",
    "Total: 1039\n",
    "Pontuação: 3.3835897307214813\n",
    "Probabilidade de vitória: 0.5409047160731473\n",
    " \n",
    "Coluna: 7\n",
    "Vitórias: 470\n",
    "Total: 963\n",
    "Pontuação: 3.383692867817833\n",
    "Probabilidade de vitória: 0.48805815160955346"
   ]
  },
  {
   "cell_type": "markdown",
   "id": "819e16bb-ae9e-4f3b-9c60-89077cbafbab",
   "metadata": {},
   "source": [
    "Resultado esperado igual ao resultado obtido. O MCTS escolheu a coluna 5 para evitar que ganhemos. O nó filho relacionado à coluna 5 retorna a maior probabilidade de vitória = 0.8443305573350416. \n",
    "\n"
   ]
  },
  {
   "cell_type": "markdown",
   "id": "88df99cf-76fd-483e-bde8-2bfb382d6eff",
   "metadata": {},
   "source": [
    "#### Análise 4: Situação de vitória ou derrota"
   ]
  },
  {
   "cell_type": "raw",
   "id": "14518009-da94-420d-a5c1-b64458c9bd39",
   "metadata": {},
   "source": [
    "estado_inicial =  [[0. 0. 0. 0. 0. 0. 0.]\n",
    "                   [0. 0. 0. 0. 0. 0. 0.]\n",
    "                   [0. 0. 0. 1. 0. 0. 0.]\n",
    "                   [0. 0. 0. 1. 0. 0. 0.]\n",
    "                   [0. 0. 0. 1. 0. 0. 0.]\n",
    "                   [0. 1. 0. 2. 2. 2. 0.]] \n",
    "\n",
    "escolha_MCTS =    [[0. 0. 0. 0. 0. 0. 0.]\n",
    "                   [0. 0. 0. 0. 0. 0. 0.]\n",
    "                   [0. 0. 0. 1. 0. 0. 0.]\n",
    "                   [0. 0. 0. 1. 0. 0. 0.]\n",
    "                   [0. 0. 0. 1. 0. 0. 0.]\n",
    "                   [0. 1. 0. 2. 2. 2. 2.]] "
   ]
  },
  {
   "cell_type": "markdown",
   "id": "ad337aba-ff25-42b5-ae77-772efff71a51",
   "metadata": {},
   "source": [
    "Resultado esperado: No estado_inicial, o MCTS tem 2 escolhas, ganhar o jogo nas colunas 3 ou 7, ou nos impedir de ganhar jogando na coluna 4. Queremos que ele jogue nas colunas 3 ou 7 para que ganhe.\n",
    "\n",
    "Resultado obtido:"
   ]
  },
  {
   "cell_type": "raw",
   "id": "ceea7ea1-8838-4348-ae4e-c472ddbb139a",
   "metadata": {},
   "source": [
    "Coluna: 1\n",
    "Vitórias: 974\n",
    "Total: 1838\n",
    "Pontuação: 3.502949383007988\n",
    "Probabilidade de vitória: 0.529923830250272\n",
    " \n",
    "Coluna: 2\n",
    "Vitórias: 1036\n",
    "Total: 1889\n",
    "Pontuação: 3.5029945847036643\n",
    "Probabilidade de vitória: 0.5484383271572261\n",
    " \n",
    "Coluna: 3\n",
    "Vitórias: 3498\n",
    "Total: 3498\n",
    "Pontuação: 3.5029637485786047\n",
    "Probabilidade de vitória: 1.0\n",
    " \n",
    "Coluna: 4\n",
    "Vitórias: 1516\n",
    "Total: 2258\n",
    "Pontuação: 3.5025873846422364\n",
    "Probabilidade de vitória: 0.6713906111603188\n",
    " \n",
    "Coluna: 5\n",
    "Vitórias: 1001\n",
    "Total: 1861\n",
    "Pontuação: 3.502530750493252\n",
    "Probabilidade de vitória: 0.53788285867813\n",
    " \n",
    "Coluna: 6\n",
    "Vitórias: 1057\n",
    "Total: 1907\n",
    "Pontuação: 3.50240325853082\n",
    "Probabilidade de vitória: 0.5542737283691662\n",
    " \n",
    "Coluna: 7\n",
    "Vitórias: 3498\n",
    "Total: 3498\n",
    "Pontuação: 3.5029637485786047\n",
    "Probabilidade de vitória: 1.0"
   ]
  },
  {
   "cell_type": "markdown",
   "id": "b817cd0d-6a33-48dc-8e2c-b36a17190144",
   "metadata": {},
   "source": [
    "Resultado esperado igual ao resutlado obtido. O MCTS descobriu que as chances de vitória ao se jogar na coluna 3 e 7 são de 100%. Nota-se que a probabilidade de jogar na coluna 4 também é boa para ele, com probabilidade de vitória de 0.6713906111603188. O MCTS conseguiu ganhar nessa situação escolhendo a coluna 7.\n",
    "\n"
   ]
  },
  {
   "cell_type": "markdown",
   "id": "204a745c-80c8-41e3-b58b-4d9a7ed9c3dd",
   "metadata": {},
   "source": [
    "### MCTS - 6 segundos:"
   ]
  },
  {
   "cell_type": "markdown",
   "id": "e11c7464-1580-48f2-90dd-b64ea5ced045",
   "metadata": {},
   "source": [
    "\n",
    "  #### Analise 1: Início do jogo"
   ]
  },
  {
   "cell_type": "raw",
   "id": "b3260e6b-9eb1-44f1-8f95-6ed847b2af68",
   "metadata": {},
   "source": [
    "estado_inicial =  [[0. 0. 0. 0. 0. 0. 0.]\n",
    "                   [0. 0. 0. 0. 0. 0. 0.]\n",
    "                   [0. 0. 0. 0. 0. 0. 0.]\n",
    "                   [0. 0. 0. 0. 0. 0. 0.]\n",
    "                   [0. 0. 0. 0. 0. 0. 0.]\n",
    "                   [0. 0. 0. 0. 1. 0. 0.]] \n",
    "\n",
    "escolha_MCTS =    [[0. 0. 0. 0. 0. 0. 0.]\n",
    "                   [0. 0. 0. 0. 0. 0. 0.]\n",
    "                   [0. 0. 0. 0. 0. 0. 0.]\n",
    "                   [0. 0. 0. 0. 0. 0. 0.]\n",
    "                   [0. 0. 0. 0. 0. 0. 0.]\n",
    "                   [0. 0. 0. 2. 1. 0. 0.]] "
   ]
  },
  {
   "cell_type": "markdown",
   "id": "3113151b-9d45-49d3-8cd2-a990a1a08d6b",
   "metadata": {},
   "source": [
    "Resultado esperado: No estado_inicial apresentado, é suposto que o MCTS tenda a jogar nas posições do meio devido à uma maior facilidade de gerar segmentos de 4 peças identicas em diversas posições. Nós, como jogadores, escolhemos a coluna com maior probabilidade de gerar combinações, a coluna 4. Queremos que ele jogue nas colunas centrais.\n",
    "\n",
    "Resultado obtido:"
   ]
  },
  {
   "cell_type": "raw",
   "id": "7f8092be-64df-477b-b4d6-f861f2fb6a3c",
   "metadata": {},
   "source": [
    "Coluna: 1\n",
    "Vitórias: 307\n",
    "Total: 1187\n",
    "Pontuação: 3.113073991166832\n",
    "Probabilidade de vitória: 0.2586352148272957\n",
    " \n",
    "Coluna: 2\n",
    "Vitórias: 376\n",
    "Total: 1257\n",
    "Pontuação: 3.1131301372166207\n",
    "Probabilidade de vitória: 0.29912490055688146\n",
    " \n",
    "Coluna: 3\n",
    "Vitórias: 419\n",
    "Total: 1299\n",
    "Pontuação: 3.113103829959532\n",
    "Probabilidade de vitória: 0.32255581216320245\n",
    " \n",
    "Coluna: 4\n",
    "Vitórias: 695\n",
    "Total: 1545\n",
    "Pontuação: 3.113189750861369\n",
    "Probabilidade de vitória: 0.44983818770226536\n",
    " \n",
    "Coluna: 5\n",
    "Vitórias: 407\n",
    "Total: 1288\n",
    "Pontuação: 3.1126301040479083\n",
    "Probabilidade de vitória: 0.3159937888198758\n",
    " \n",
    "Coluna: 6\n",
    "Vitórias: 390\n",
    "Total: 1271\n",
    "Pontuação: 3.112967100627425\n",
    "Probabilidade de vitória: 0.3068450039339103\n",
    " \n",
    "Coluna: 7\n",
    "Vitórias: 372\n",
    "Total: 1253\n",
    "Pontuação: 3.113157074837172\n",
    "Probabilidade de vitória: 0.2968874700718276"
   ]
  },
  {
   "cell_type": "markdown",
   "id": "ca6d43ba-f384-4e2d-ba19-eca02a23fcbf",
   "metadata": {},
   "source": [
    "Resultado esperado igual ao resultado obtido. O MCTS optou por jogar na coluna do meio, algo já esperado, visto que as coluna do meio é a que possui mais opções de combinações de segmentos de 4, e a que obteve mais vitórias nas simulações = 0.44983818770226536.\n"
   ]
  },
  {
   "cell_type": "markdown",
   "id": "d7a65b35-5f9f-4730-b6ca-62d12f2b4b73",
   "metadata": {},
   "source": [
    "#### Análise 2: Movimento do MCTS para ganhar"
   ]
  },
  {
   "cell_type": "raw",
   "id": "d36a78f3-7d9e-48e8-8263-183ddf26fa88",
   "metadata": {},
   "source": [
    "estado_inicial =  [[0. 0. 0. 0. 0. 0. 0.]\n",
    "                   [0. 0. 0. 0. 0. 0. 0.]\n",
    "                   [0. 0. 0. 0. 0. 0. 0.]\n",
    "                   [0. 0. 2. 2. 0. 0. 0.]\n",
    "                   [1. 0. 1. 1. 2. 0. 0.]\n",
    "                   [1. 0. 2. 1. 1. 2. 0.]]\n",
    "\n",
    "escolha_MCTS =    [[0. 0. 0. 0. 0. 0. 0.]\n",
    "                   [0. 0. 0. 0. 0. 0. 0.]\n",
    "                   [0. 0. 2. 0. 0. 0. 0.]\n",
    "                   [0. 0. 2. 2. 0. 0. 0.]\n",
    "                   [1. 0. 1. 1. 2. 0. 0.]\n",
    "                   [1. 0. 2. 1. 1. 2. 0.]] "
   ]
  },
  {
   "cell_type": "markdown",
   "id": "16b803e3-6224-4b3f-ba8e-5fd6693c472c",
   "metadata": {},
   "source": [
    "Resultado esperado: No estado_inicial, o MCTS se encontra numa situação em que ele consegue ganhar caso jogue na coluna 3, realizando uma diagonal. Queremos que ele jogue na coluna 3.\n",
    "\n",
    "Resultado obtido:"
   ]
  },
  {
   "cell_type": "raw",
   "id": "0fce702c-12a0-4255-b8aa-91749b6eb1e8",
   "metadata": {},
   "source": [
    "\n",
    "\n",
    "Coluna: 1\n",
    "Vitórias: 1315\n",
    "Total: 2399\n",
    "Pontuação: 3.399425466366192\n",
    "Probabilidade de vitória: 0.5481450604418507\n",
    " \n",
    "Coluna: 2\n",
    "Vitórias: 924\n",
    "Total: 2070\n",
    "Pontuação: 3.3993098381847484\n",
    "Probabilidade de vitória: 0.4463768115942029\n",
    " \n",
    "Coluna: 3\n",
    "Vitórias: 4341\n",
    "Total: 4341\n",
    "Pontuação: 3.399497643959769\n",
    "Probabilidade de vitória: 1.0\n",
    " \n",
    "Coluna: 4\n",
    "Vitórias: 1268\n",
    "Total: 2361\n",
    "Pontuação: 3.3995187517441097\n",
    "Probabilidade de vitória: 0.5370605675561203\n",
    " \n",
    "Coluna: 5\n",
    "Vitórias: 1639\n",
    "Total: 2650\n",
    "Pontuação: 3.399096494364471\n",
    "Probabilidade de vitória: 0.6184905660377359\n",
    " \n",
    "Coluna: 6\n",
    "Vitórias: 1133\n",
    "Total: 2250\n",
    "Pontuação: 3.3994642253469545\n",
    "Probabilidade de vitória: 0.5035555555555555\n",
    " \n",
    "Coluna: 7\n",
    "Vitórias: 1120\n",
    "Total: 2239\n",
    "Pontuação: 3.399514699503138\n",
    "Probabilidade de vitória: 0.5002233139794551"
   ]
  },
  {
   "cell_type": "markdown",
   "id": "5b7b78e8-43be-46d4-8626-68fe6a170e1b",
   "metadata": {},
   "source": [
    "Resultado obtido igual ao resultado esperado. O MCTS conseguiu ver a coluna 3 como possibilidade de vitória e ganhou o jogo. A coluna 3 possuia a maior probabilidade de vitória = 1.0.\n"
   ]
  },
  {
   "cell_type": "markdown",
   "id": "c9320051-dd6f-4f92-b255-8bdc2b28da3b",
   "metadata": {},
   "source": [
    "#### Análise 3: Movimento do MCTS para impedir o oponente de ganhar"
   ]
  },
  {
   "cell_type": "raw",
   "id": "171f3e0f-7e10-4f21-a042-c240b3288871",
   "metadata": {},
   "source": [
    "estado_inicial = [[0. 0. 0. 1. 0. 0. 0.]        \n",
    "                  [0. 0. 0. 2. 0. 0. 0.]        \n",
    "                  [0. 0. 2. 2. 0. 0. 0.]       \n",
    "                  [0. 1. 1. 2. 2. 0. 0.]       \n",
    "                  [0. 1. 2. 1. 2. 0. 0.]        \n",
    "                  [0. 1. 1. 2. 1. 1. 0.]]    \n",
    "\n",
    "\n",
    "escolha_MCTS =   [[0. 0. 0. 1. 0. 0. 0.]\n",
    "                  [0. 0. 0. 2. 0. 0. 0.]\n",
    "                  [0. 2. 2. 2. 0. 0. 0.]                     \n",
    "                  [0. 1. 1. 2. 2. 0. 0.]  \n",
    "                  [0. 1. 2. 1. 2. 0. 0.]\n",
    "                  [0. 1. 1. 2. 1. 1. 0.]]"
   ]
  },
  {
   "cell_type": "markdown",
   "id": "a069feb7-735e-4882-9a4c-f4e82730de45",
   "metadata": {},
   "source": [
    "                  \n",
    "Resultado esperado: No estado_inicial, apenas 6 filhos existem, pois a coluna 4 está cheia. Nosso grupo consgue ganhar o jogo ao jogar na coluna 2, tanto verticalmente como na diagonal. Queremos que o MCTS nos impeça e jogue na coluna 3.\n",
    "\n",
    "Resultado obtido:\n"
   ]
  },
  {
   "cell_type": "raw",
   "id": "21073915-546e-4e39-839d-899b22295562",
   "metadata": {},
   "source": [
    "Coluna: 1\n",
    "Vitórias: 1520\n",
    "Total: 2722\n",
    "Pontuação: 3.3621571930090464\n",
    "Probabilidade de vitória: 0.5584129316678913\n",
    " \n",
    "Coluna: 2\n",
    "Vitórias: 4151\n",
    "Total: 4447\n",
    "Pontuação: 3.3619214732244656\n",
    "Probabilidade de vitória: 0.9334382729930291\n",
    " \n",
    "Coluna: 3\n",
    "Vitórias: 1813\n",
    "Total: 2946\n",
    "Pontuação: 3.362164488171619\n",
    "Probabilidade de vitória: 0.6154107264086898\n",
    " \n",
    "Coluna: 5\n",
    "Vitórias: 2105\n",
    "Total: 3158\n",
    "Pontuação: 3.362241703383817\n",
    "Probabilidade de vitória: 0.6665611146295124\n",
    " \n",
    "Coluna: 6\n",
    "Vitórias: 2173\n",
    "Total: 3206\n",
    "Pontuação: 3.362256817048933\n",
    "Probabilidade de vitória: 0.6777916406737368\n",
    " \n",
    "Coluna: 7\n",
    "Vitórias: 1813\n",
    "Total: 2946\n",
    "Pontuação: 3.362164488171619\n",
    "Probabilidade de vitória: 0.6154107264086898 "
   ]
  },
  {
   "cell_type": "markdown",
   "id": "519115cd-25d6-4f08-9d7a-3c591f0eddaa",
   "metadata": {},
   "source": [
    "Resultado esperado igual ao resultado obtido. O MCTS conseguiu nos impedir jogando na coluna 2. A probabilidade do MCTS ganhar o jogo era maior caso ele nos impedisse na coluna 2. Probalidade de vitória = 0.9334382729930291.\n"
   ]
  },
  {
   "cell_type": "markdown",
   "id": "9462faba-19e0-409e-bf62-2c0c984849e0",
   "metadata": {},
   "source": [
    "#### Análise 4: Situação de vitória ou derrota"
   ]
  },
  {
   "cell_type": "raw",
   "id": "4c29b9d1-8801-425f-82fc-f28949f3d863",
   "metadata": {},
   "source": [
    "estado_inicial =  [[0. 0. 0. 0. 0. 0. 0.]\n",
    "                   [0. 0. 0. 0. 0. 0. 0.]\n",
    "                   [0. 0. 0. 2. 0. 0. 0.]\n",
    "                   [0. 0. 2. 2. 2. 0. 0.]\n",
    "                   [0. 2. 1. 1. 1. 0. 0.]\n",
    "                   [0. 1. 1. 2. 1. 1. 0.]] \n",
    "\n",
    "escolha_MCTS =    [[0. 0. 0. 0. 0. 0. 0.]\n",
    "                   [0. 0. 0. 0. 0. 0. 0.]\n",
    "                   [0. 0. 0. 2. 0. 0. 0.]\n",
    "                   [0. 0. 2. 2. 2. 0. 0.]\n",
    "                   [0. 2. 1. 1. 1. 0. 0.]\n",
    "                   [2. 1. 1. 2. 1. 1. 0.]]"
   ]
  },
  {
   "cell_type": "markdown",
   "id": "34d1e03b-b06f-4ff7-befc-f9c1d0b3de20",
   "metadata": {},
   "source": [
    "Resultado esperado: No estado_inicial, nosso grupo pode ganhar na próxima rodada jogando na coluna 6, e o MCTS pode ganhar na próxima jogada, jogando na coluna 1. Queremos que ele jogue na coluna 1 e ganhe, ao invés de nos impedir.\n",
    "\n",
    "Resultado obtido:"
   ]
  },
  {
   "cell_type": "raw",
   "id": "dde2ab75-b99a-4a1e-b44e-5ed684c2c607",
   "metadata": {},
   "source": [
    "Coluna: 1\n",
    "Vitórias: 6540\n",
    "Total: 6540\n",
    "Pontuação: 3.6540263139905664\n",
    "Probabilidade de vitória: 1.0\n",
    " \n",
    "Coluna: 2\n",
    "Vitórias: 6540\n",
    "Total: 6540\n",
    "Pontuação: 3.6540263139905664\n",
    "Probabilidade de vitória: 1.0\n",
    " \n",
    "Coluna: 3\n",
    "Vitórias: 3433\n",
    "Total: 4598\n",
    "Pontuação: 3.6540537113703335\n",
    "Probabilidade de vitória: 0.7466289691170074\n",
    " \n",
    "Coluna: 4\n",
    "Vitórias: 3732\n",
    "Total: 4804\n",
    "Pontuação: 3.653970750448262\n",
    "Probabilidade de vitória: 0.7768526228143214\n",
    " \n",
    "Coluna: 5\n",
    "Vitórias: 3406\n",
    "Total: 4579\n",
    "Pontuação: 3.654102305369031\n",
    "Probabilidade de vitória: 0.7438305306835553\n",
    " \n",
    "Coluna: 6\n",
    "Vitórias: 6425\n",
    "Total: 6474\n",
    "Pontuação: 3.6540900912421312\n",
    "Probabilidade de vitória: 0.9924312635156008\n",
    " \n",
    "Coluna: 7\n",
    "Vitórias: 3312\n",
    "Total: 4514\n",
    "Pontuação: 3.653797737782458\n",
    "Probabilidade de vitória: 0.7337173238812583"
   ]
  },
  {
   "cell_type": "markdown",
   "id": "48a2f62d-40f2-40bc-9f09-a6f723c8ced6",
   "metadata": {},
   "source": [
    "Resultado esperado igual ao resultado obtido. O MCTS ganhou o jogo escolhendo a coluna 1 com probabilidade de vitória = 1.0. Vale notar que a probabilidade de jogar na coluna 6 foi de 0.9924312635156008, ou seja, caso nos impedisse de ganhar, a chance de ganhar o jogo ainda continuaria alta. Mas optou por ganhar de uma vez.\n",
    " "
   ]
  },
  {
   "cell_type": "markdown",
   "id": "efa6be82-478c-4bf8-9fab-96ebd72ba4f3",
   "metadata": {},
   "source": [
    "### Conclusões sobre o MCTS AAAAAAAAA CHECAAAAAAAR DPS DO CODIGOOOOO\n",
    "\n",
    "Esse algoritmo apresentou um excelente desempenho quando executado com um alto limite de tempo, porém a experiência interativa com o jogador é prejudicada devido ao delay de cada jogada.  \n",
    "Assim, optamos em tornar os 6 segundos de execução como padrão. Com esse parâmetro, algumas vezes a jogada escolhida não é garantidamente a melhor entre as possibilidades. Por exemplo, deixa de impedir uma vitória do oponente, visando mais oportunidades de vitória nos níveis seguintes, uma vez que esse algoritmo não calcula qual seria a melhor jogada para cada nível.\n",
    "\n",
    "Para melhor comparar os dois últimos algoritmos, faremos alguns testes entre eles para conseguirmos analisar melhor o desempenho de cada um."
   ]
  },
  {
   "cell_type": "markdown",
   "id": "abed361a-19f0-4548-8f9c-c65a84434023",
   "metadata": {},
   "source": [
    "# MCTS x AlphaBeta"
   ]
  },
  {
   "cell_type": "markdown",
   "id": "d2e13adb-8016-40ec-8d51-e1f4a1986bb1",
   "metadata": {},
   "source": [
    "2. MCTS vs adversarial (estudar o quanto a porcentagem sobe de acordo com o tempo do MCTS)\n",
    "3. Alpha Beta vs adversarial (estudar o quanto a porcentagem sobe de acordo com a profundidade do AB)\n",
    "4. MCTS vs alpha beta (cada um com seu melhor empenho, comparar pra ver quem é melhor)\n"
   ]
  },
  {
   "cell_type": "markdown",
   "id": "966f695e-0aa5-4e57-b338-f1adc17bb531",
   "metadata": {},
   "source": [
    "Num geral, o MCTS com 3 segundos como limite já o é o suficiente para ganhar de humanos comuns, mas sofre um pouco com outros algorítmos adversáriais, como o AlphaBeta e o A* Adversarial. Para efeitos de teste, colocamos o MCTS com 3 segundos de limite para jogar contra o A* Adversarial, que é o algoritmo que mais se aproxima do modo de jogo humano (raciocina 2 jogadas à frente), e o resultado foi que, de 20 jogos, o MCTS ganhou 10 jogos e empatou 3. Mas ao subir o tempo de 3 segundos para 7, ele conseguiu vencer 15 jogos e empatou 1.\n"
   ]
  },
  {
   "cell_type": "code",
   "execution_count": null,
   "id": "8a34fb82-a8e8-4be6-abea-b537a62a987a",
   "metadata": {},
   "outputs": [],
   "source": []
  }
 ],
 "metadata": {
  "kernelspec": {
   "display_name": "Python 3 (ipykernel)",
   "language": "python",
   "name": "python3"
  },
  "language_info": {
   "codemirror_mode": {
    "name": "ipython",
    "version": 3
   },
   "file_extension": ".py",
   "mimetype": "text/x-python",
   "name": "python",
   "nbconvert_exporter": "python",
   "pygments_lexer": "ipython3",
   "version": "3.10.12"
  }
 },
 "nbformat": 4,
 "nbformat_minor": 5
}
