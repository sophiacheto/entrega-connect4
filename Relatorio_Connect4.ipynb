{
 "cells": [
  {
   "cell_type": "markdown",
   "id": "ad5e8838-5eee-4da5-964d-54b584cfb857",
   "metadata": {},
   "source": [
    "<div align=\"left\" style=\"float: left;\">\n",
    "    \n",
    "###### CC2006 - Inteligência Artificial\n",
    "\n",
    "\n",
    "</div>\n",
    "\n",
    "<div align=\"right\" style=\"float: right;\">\n",
    "    \n",
    "###### _Robert Gleison dos Reis Pereira (up202200496)_  \n",
    "###### _Sophia Cheto de Queiroz Fonseca (up202200336)_    \n",
    "###### _Guilherme Magalhães (up202205505)_  \n",
    "\n",
    "</div>\n",
    "\n",
    "####\n",
    "# Connect4 \n",
    "\n",
    "Criação de um jogo Connect Four usando algoritmos de Inteligência Artificial: A*, Alpha-Beta Pruning e Monte Carlo Tree Search\n",
    "\n",
    "_O código completo (com execução pelo Pygame e comentários sobre cada parte do código) está armazenado no seguinte repositório do GitHub: \n",
    "https://github.com/RobertGleison/connect4.git_\n",
    "\n",
    "\n",
    "\n"
   ]
  },
  {
   "cell_type": "markdown",
   "id": "3dacf571-7c90-43fd-8f43-3221abed6191",
   "metadata": {},
   "source": [
    "---"
   ]
  },
  {
   "cell_type": "markdown",
   "id": "3aab9755-dd83-4879-9949-22f8cff9c4e3",
   "metadata": {},
   "source": [
    "\n",
    "## Introdução\n",
    "\n",
    "#### Sobre o jogo:\n",
    "Connect 4, também conhecido como Quatro em Linha, é um jogo de estratégia para dois jogadores. O objetivo é ser o primeiro a alinhar quatro peças da mesma cor consecutivamente, seja na vertical, horizontal ou diagonal, em um tabuleiro vertical com sete colunas e seis linhas. Os jogadores alternam colocando suas peças em uma coluna vazia, tentando bloquear o adversário enquanto procuram formar sua própria sequência de quatro peças.\n",
    "\n",
    "#### O nosso projeto:\n",
    "\n",
    "O jogo foi desenvolvido em Python, usando a biblioteca numpy como auxílio para as matrizes que representam o tabuleiro. Para a interface gráfica, utilizamos o Pygame para criar uma melhor interação com o usuário.  \n",
    "Há dois modos de jogo: \"Player vs Player\", para dois jogadores, e \"Single Player\", onde o jogador joga contra o computador. No segundo modo, foram implementados os seguintes algoritmos, com suas respectivas identificações na interface do Pygame:\n",
    "* A* _(fácil)_\n",
    "* A* Adversarial _(médio)_\n",
    "* Alpha-Beta Pruning _(difícil)_\n",
    "* Monte Carlo Tree Search _(desafio)_  \n",
    "\n",
    "\n",
    "#### Considerações:\n",
    "Para a apresentação do código neste notebook, optamos por retirar a integração com o Pygame, gerando um código mais limpo e mais fácil de compreender pela leitura. Assim, aqui temos apenas o programa lógico e algorítimico do jogo. O código completo está disponível no GitHub.\n",
    "\n",
    "\n"
   ]
  },
  {
   "cell_type": "markdown",
   "id": "1d025b33-3e30-41dd-83bf-3c096b1a5f5a",
   "metadata": {},
   "source": [
    "---"
   ]
  },
  {
   "attachments": {
    "713177e8-0b07-4a63-a1f4-45c63dce4e5d.png": {
     "image/png": "[encoded data removed]"
    }
   },
   "cell_type": "markdown",
   "id": "6522e316-3d37-4913-b503-cdd52331e972",
   "metadata": {},
   "source": [
    "# Estrutura do projeto:\n",
    "\n",
    "\n",
    "<div align=\"left\">\n",
    "<img src=\"attachment:713177e8-0b07-4a63-a1f4-45c63dce4e5d.png\" width=\"200\"/>\n",
    "</div>\n"
   ]
  },
  {
   "cell_type": "markdown",
   "id": "3ecd76cb-a155-43f4-a1e8-2be738ce6ad6",
   "metadata": {},
   "source": [
    "####  Armazenamento nos Diretórios\n",
    "* **ai_algorithms:** códigos dos algoritmos de decisão propostos  \n",
    "* **assets:** arquivos de imagem para o README.md  \n",
    "* **fonts:** fontes usadas na interface gráfica  \n",
    "* **game_rules:** códigos base do jogo, tais como validações, lógicas de jogo, constantes e tabuleiro  \n",
    "* **heuristics:** códigos das heurísticas usadas pelos algoritmos de decisão  \n",
    "* **play_game:** códigos da interface gráfica e loop do jogo"
   ]
  },
  {
   "cell_type": "markdown",
   "id": "14404722-e90e-4289-b030-b058117a59b9",
   "metadata": {},
   "source": [
    "---"
   ]
  },
  {
   "cell_type": "markdown",
   "id": "64d5af6c-031a-4ad9-92d1-e561994672f0",
   "metadata": {},
   "source": [
    "# **Estrutura do Jogo** (game_rules)"
   ]
  },
  {
   "cell_type": "markdown",
   "id": "452d7d83-b5e4-4223-8210-5da178f63e61",
   "metadata": {},
   "source": [
    "Antes de desenvolver os algoritmos criados, precisamos importar uma série de validações e regras lógicas que fazem o jogo funcionar."
   ]
  },
  {
   "cell_type": "code",
   "execution_count": 3,
   "id": "ec02269d-9758-43bb-88c2-93e477601958",
   "metadata": {},
   "outputs": [],
   "source": [
    "import sys\n",
    "import numpy as np\n",
    "import math\n",
    "import os\n",
    "import time\n",
    "import random\n",
    "import itertools\n",
    "from math import sqrt, log\n",
    "from dataclasses import dataclass, field\n",
    "from IPython.display import clear_output"
   ]
  },
  {
   "cell_type": "markdown",
   "id": "b4c11b0a-b04a-4583-886a-c62ac28ffa82",
   "metadata": {},
   "source": [
    "### constants.py\n",
    "As variáveis globais usadas durante toda a execuçãodo jogo são armazenadas em um arquivo constants.py."
   ]
  },
  {
   "cell_type": "code",
   "execution_count": 4,
   "id": "be6d7e61-a0b9-41ef-a0a8-67558f21c318",
   "metadata": {},
   "outputs": [],
   "source": [
    "HUMAN_PIECE = 1\n",
    "AI_PIECE = 2\n",
    "\n",
    "# Constants for the data matrix\n",
    "ROWS = 6\n",
    "COLUMNS = 7"
   ]
  },
  {
   "cell_type": "markdown",
   "id": "4a316a5c-ffce-4cbc-a2d5-420d144b4c4a",
   "metadata": {},
   "source": [
    "### board.py\n",
    "O estado do jogo é armazenado na classe abaixo, baiscamente é uma matriz 6x7 que se completa com valores 1 e 2, que são as peças dos jogadores"
   ]
  },
  {
   "cell_type": "code",
   "execution_count": 5,
   "id": "c0891d36-3b33-4b27-b520-823916c57660",
   "metadata": {},
   "outputs": [],
   "source": [
    "@dataclass\n",
    "class Board:\n",
    "    rows: int = ROWS\n",
    "    columns: int = COLUMNS\n",
    "    board: np.ndarray = field(default_factory=lambda: np.zeros((ROWS, COLUMNS)))\n",
    "            \n",
    "    def get_board(self) -> np.ndarray:\n",
    "        return self.board\n",
    "\n",
    "    def print_board(self) -> None:\n",
    "        print(np.flip(self.board, 0), \"\\n\")"
   ]
  },
  {
   "cell_type": "markdown",
   "id": "5eac3e90-988b-4def-ba5a-be755dcecdc8",
   "metadata": {},
   "source": [
    "### game_logic.py"
   ]
  },
  {
   "cell_type": "code",
   "execution_count": 6,
   "id": "bbb6c528-0b70-4990-90ba-3cce53486be5",
   "metadata": {},
   "outputs": [],
   "source": [
    "def human_move(bd: Board, board: np.ndarray, turn: int, game_mode: int, interface: any) -> bool:\n",
    "\t\"\"\"Set the column of human move\"\"\"\n",
    "\tprint(\"\\nEscolha uma coluna de 1 a 7: \", end='')\n",
    "\tcol = int(input()) -1\n",
    "\twhile not 0 <= col < 7:\n",
    "\t\tprint(\"Número de coluna inválida. Escolha novamente: \", end='')\n",
    "\t\tcol = int(input()) -1\n",
    "\tif not is_valid(board, col): return False \n",
    "\tmake_move(bd, board, turn, col, game_mode, interface)\n",
    "\treturn True\n",
    "\n",
    "def make_move(bd: Board, board: np.ndarray, turn: int, move: int, game_mode: int, interface: any) -> bool:\n",
    "    \"\"\"Make the move and see if the move is a winning one\"\"\"\n",
    "    row = get_next_open_row(board, move)\n",
    "    drop_piece(board, row, move, turn)   \n",
    "    clear_output(wait=True)\n",
    "    interface.print_game_modes(game_mode)\n",
    "    display(bd.print_board())\n",
    "    return winning_move(board, turn) or is_game_tied(board)\n",
    "\n",
    "def ai_move(bd: Board, game_mode: int, board: np.ndarray, turn: int, interface: any) -> int:\n",
    "\t\"\"\"Set the column of the AI move\"\"\"\n",
    "\tai_column = get_ai_column(board, game_mode)\n",
    "\tgame_over = make_move(bd, board, turn, ai_column, game_mode, interface)\n",
    "\treturn game_over\n",
    "\n",
    "def get_ai_column(board: Board, game_mode: int) -> int:\n",
    "\t\"\"\"Select the chose ai algorithm to make a move\"\"\"\n",
    "\tchosen_column = 0\n",
    "\tif game_mode == 2:\n",
    "\t\tchosen_column = a_star(board, AI_PIECE, HUMAN_PIECE)\n",
    "\telif game_mode == 3:\n",
    "\t\tchosen_column = a_star_adversarial(board, AI_PIECE, HUMAN_PIECE)\n",
    "\telif game_mode == 4:\n",
    "\t\tchosen_column = alpha_beta(board)\n",
    "\telif game_mode == 5:\n",
    "\t\tchosen_column = mcts(board)\n",
    "\treturn chosen_column\n",
    "\n",
    "def simulate_move(board: np.ndarray, piece: int, col: int) -> None | np.ndarray:\n",
    "\t\"\"\"Simulate a move in a copy of the board\"\"\"\n",
    "\tboard_copy = board.copy()\n",
    "\trow = get_next_open_row(board_copy, col)\n",
    "\tif row == None: return None\n",
    "\tdrop_piece(board_copy, row, col, piece)\n",
    "\treturn board_copy\n",
    "\n",
    "def get_next_open_row(board: np.ndarray, col: int) -> int:\n",
    "\t\"\"\"Given a column, return the first row avaiable to set a piece\"\"\"\n",
    "\tfor row in range(ROWS):\n",
    "\t\tif board[row][col] == 0:\n",
    "\t\t\treturn row\n",
    "\treturn -1\n",
    "\n",
    "def available_moves(board: np.ndarray) -> list | int:\n",
    "    \"\"\"Return list of available columns to play\"\"\"\n",
    "    available_moves = []\n",
    "    for i in range(COLUMNS):\n",
    "        if board[5][i] == 0:\n",
    "            available_moves.append(i)\n",
    "    return available_moves if len(available_moves) > 0 else -1\n",
    "\n",
    "\n",
    "def drop_piece(board: np.ndarray, row: int, col: int, piece: int) -> None:\n",
    "\t\"\"\"Insert a piece into board on correct location\"\"\"\n",
    "\tboard[row][col] = piece\n",
    "\n",
    "def is_game_tied(board: np.ndarray) -> bool:\n",
    "\t\"\"\"Assert if the game is tied\"\"\"\n",
    "\tif winning_move(board, AI_PIECE) or winning_move(board, HUMAN_PIECE): return False\n",
    "\tfor i in range(len(board)):\n",
    "\t\tfor j in range(len(board[0])):\n",
    "\t\t\tif board[i][j]==0: return False\n",
    "\treturn True\n",
    "\n",
    "def is_valid(board: np.ndarray, col: int) -> bool:\n",
    "\t\"\"\"Analize if chosen column is valid\"\"\"\n",
    "\tif not 0 <= col < COLUMNS: return False\n",
    "\trow = get_next_open_row(board, col)\n",
    "\treturn 0 <= row <= 5\n",
    "\n",
    "def winning_move(board: np.ndarray, piece: int) -> bool:\n",
    "\t\"\"\"Return if the selected move will win the game\"\"\"\n",
    "\tdef check_horizontal(board: np.ndarray, piece: int) -> bool:\n",
    "\t\t\"\"\"Check winning condition on horizontal lines\"\"\"\n",
    "\t\tfor col in range(COLUMNS-3):\n",
    "\t\t\tfor row in range(ROWS):\n",
    "\t\t\t\tif board[row][col] == piece and board[row][col+1] == piece and board[row][col+2] == piece and board[row][col+3] == piece:\n",
    "\t\t\t\t\treturn True\t\n",
    "\n",
    "\tdef check_vertical(board: np.ndarray, piece: int) -> bool:\n",
    "\t\t\"\"\"Check winning condition on vertical lines\"\"\"\n",
    "\t\tfor col in range(COLUMNS):\n",
    "\t\t\tfor row in range(ROWS-3):\n",
    "\t\t\t\tif board[row][col] == piece and board[row+1][col] == piece and board[row+2][col] == piece and board[row+3][col] == piece:\n",
    "\t\t\t\t\treturn True\t\t\n",
    "\n",
    "\tdef check_ascending_diagonal(board: np.ndarray, piece: int) -> bool:\n",
    "\t\t\"\"\"Check winning condition on ascending diagonal lines\"\"\"\n",
    "\t\tfor col in range(COLUMNS-3):\n",
    "\t\t\tfor row in range(ROWS-3):\n",
    "\t\t\t\tif board[row][col] == piece and board[row+1][col+1] == piece and board[row+2][col+2] == piece and board[row+3][col+3] == piece:\n",
    "\t\t\t\t\treturn True\t\n",
    "\n",
    "\tdef check_descending_diagonal(board: np.ndarray, piece: int) -> bool:\n",
    "\t\t\"\"\"Check winning condition on descending diagonal lines\"\"\"\n",
    "\t\tfor col in range(COLUMNS-3):\n",
    "\t\t\tfor row in range(3, ROWS):\n",
    "\t\t\t\tif board[row][col] == piece and board[row-1][col+1] == piece and board[row-2][col+2] == piece and board[row-3][col+3] == piece:\n",
    "\t\t\t\t\treturn True\n",
    "\t\t\t\t\n",
    "\treturn check_vertical(board, piece) or check_horizontal(board, piece) or check_ascending_diagonal(board, piece) or check_descending_diagonal(board, piece)"
   ]
  },
  {
   "cell_type": "markdown",
   "id": "dd0571e0-5e83-44bc-9313-823ed69de552",
   "metadata": {},
   "source": [
    "---\n"
   ]
  },
  {
   "cell_type": "markdown",
   "id": "601fbaa4-9b52-4bcd-8070-bfa9422123e5",
   "metadata": {},
   "source": [
    "# **Algoritmos** (ai_algorithms)\n"
   ]
  },
  {
   "cell_type": "markdown",
   "id": "6ef6c4eb-25d1-495c-8955-094d9d4f4ccb",
   "metadata": {},
   "source": [
    "## **Heurística** (heuristics.py)\n",
    "\n",
    "Para 3 dos 4 algoritmos (A*, A* Adversarial, Alpha-Beta), utilizamos a mesma heurística, que foi baseada num cálculo de pontos para cada estado do tabuleiro. Primeiramente, vamos entender como ela funciona.  \n",
    "\n",
    "Dado um estado de jogo(matriz 6x7 com distribuição de peças), queremos avaliar a pontuação desse estado específico.  \n",
    "A cada 4 espaços do tabuleiro são contadas as peças de cada jogador e atribui-se uma quantidade de pontos a esse segmento. No final do tabuleiro, somam-se as pontuações de cada segmento para calcular a pontução geral daquele estado.  \n",
    "\n"
   ]
  },
  {
   "cell_type": "markdown",
   "id": "606baaf1-26e4-45ef-b951-90bf1fd694c7",
   "metadata": {},
   "source": [
    "#### Funções \n",
    "\n",
    "Para isso, foram criadas duas funções auxiliares para avaliar o score the determinado estado (posições das peças):  \n",
    "\n",
    "A função **calculate_board_score()** segmenta a matriz em segmentos de 4 espaços (verticalmente, horizontalmente e diagonalmente).\n",
    "Logo após, o segmento é passado como argumento para a função **weights()**, que calcula um valor de pontos associado a esse bloco de acordo com o número de peças de cada jogador existem no segmento.  \n",
    "Para cada segmento, utilizamos a seguinte heurística, sendo \"Player 1\" = jogador e \"Player 2\" = IA:  \n",
    "\n",
    "- Existem peças do Player 1 e do Player 2 = **0 pontos**\n",
    "- 1 peça do Player 2 = **1 ponto**\n",
    "- 2 peças do Player 2 = **10 pontos**\n",
    "- 3 peças do Player 2 = **50 pontos**\n",
    "- 4 peças do Player 2 = **1000 pontos**\n",
    "- 1 peça do Player 1 = **-1 ponto**\n",
    "- 2 peças do Player 1 = **-10 pontos**\n",
    "- 3 peças do Player 1 = **-50 pontos**\n",
    "- 4 peças do Player 1 = **-2000 pontos**"
   ]
  },
  {
   "cell_type": "code",
   "execution_count": 7,
   "id": "8ef82768-69cf-47a0-a6cf-c86b865d268b",
   "metadata": {},
   "outputs": [],
   "source": [
    "def calculate_board_score(board: np.ndarray, piece: int, opponent_piece: int) -> int:\n",
    "    score = 0\n",
    "\n",
    "    # Check horizontal\n",
    "    for col in range(COLUMNS - 3):\n",
    "        for r in range(ROWS):\n",
    "            segment = [board[r][col + i] for i in range(4)]\n",
    "            score += weights(segment, piece, opponent_piece)\n",
    "\n",
    "    # Check vertical\n",
    "    for col in range(COLUMNS):\n",
    "        for r in range(ROWS - 3):\n",
    "            segment = [board[r + i][col] for i in range(4)]\n",
    "            score += weights(segment, piece, opponent_piece)\n",
    "\n",
    "    # Check ascending diagonal\n",
    "    for col in range(COLUMNS - 3):\n",
    "        for r in range(ROWS - 3):\n",
    "            segment = [board[r + i][col + i] for i in range(4)]\n",
    "            score += weights(segment, piece, opponent_piece)\n",
    "\n",
    "    # Check descending diagonal\n",
    "    for col in range(COLUMNS - 3):\n",
    "        for r in range(3, ROWS):\n",
    "            segment = [board[r - i][col + i] for i in range(4)]\n",
    "            score += weights(segment, piece, opponent_piece)\n",
    "\n",
    "    return score"
   ]
  },
  {
   "cell_type": "code",
   "execution_count": 8,
   "id": "eb7e9cba-9e14-405f-a3ce-05892fb75d31",
   "metadata": {},
   "outputs": [],
   "source": [
    "def weights(segment: list, piece: int, opponent_piece: int) -> int:\n",
    "    if piece in segment and opponent_piece in segment: return 0\n",
    "    if segment.count(piece) == 1: return 1\n",
    "    if segment.count(piece) == 2: return 10\n",
    "    if segment.count(piece) == 3: return 50\n",
    "    if segment.count(piece) == 4: return 1000\n",
    "    if segment.count(opponent_piece) == 1: return -1\n",
    "    if segment.count(opponent_piece) == 2: return -10\n",
    "    if segment.count(opponent_piece) == 3: return -50\n",
    "    if segment.count(opponent_piece) == 4: return -2000\n",
    "    return 0"
   ]
  },
  {
   "cell_type": "markdown",
   "id": "a351f14a-3982-4389-a51f-33635e4b9d7d",
   "metadata": {},
   "source": [
    "Essa pontuação tenta simular um cálculo de probabilidade de vitória com uma certa jogada. Quanto mais perto de completar uma sequência de 4 peças, maior a pontuação. De forma análoga, quanto mais perto estiver o jogador oponente de uma sequência de 4 peças, mais negativo será a pontuação (pois queremos evitar a vitória do oponente). Quando há peças dos dois jogadores num segmento, esse espaço não pode mais representar uma possibilidade de viória para nenhum dos dois jogadores, logo, recebe uma pontuação nula.  \n",
    "\n",
    "As pontuações são simétricas, exceto quando se tem as 4 posições preenchidas com peças do mesmo jogador, onde a pontuação de 4 peças inimigas equivale ao dobro (negativo) da pontuação de 4 peças aliadas. Isso acontece para que evitar a vitória do inimigo seja sempre a prioridade, em vez de preferir acumular pontos.  \n",
    "\n",
    "Nota-se também que a pontuação é calculada com apenas uma procura na tabela. Inicialmente, havíamos tentando fazer uma varredura pela matriz em busca de cada uma das pontuações especificamente, o que gerava uma repetição desnecessária da procura. O modelo atual de implementação é um método mais eficiente de percorrer a matriz."
   ]
  },
  {
   "cell_type": "markdown",
   "id": "35016e21-6adb-40a9-b04d-138c03a1d42b",
   "metadata": {},
   "source": [
    "### Exemplo de utilização:"
   ]
  },
  {
   "cell_type": "markdown",
   "id": "0417c662-f771-4e73-a125-e6b13ad87adf",
   "metadata": {},
   "source": [
    "Dado o estado do tabuleiro abaixo criado, realizamos uma chamada à função calculate_board_state(), para avaliar a pontuação desse estado específico."
   ]
  },
  {
   "cell_type": "code",
   "execution_count": 27,
   "id": "d3cc2c82-88cd-43db-b397-96d769886720",
   "metadata": {},
   "outputs": [],
   "source": [
    "estado1 = [[0, 0, 0, 0, 0, 0, 0],\n",
    "          [0, 0, 0, 0, 0, 0, 0],\n",
    "          [0, 2, 0, 0, 0, 0, 0],\n",
    "          [0, 2, 2, 2, 0, 0, 0],\n",
    "          [0, 1, 1, 2, 1, 0, 0],\n",
    "          [1, 1, 2, 1, 1, 1, 2]]\n",
    "\n",
    "\n",
    "estado2 = [[0, 0, 0, 0, 0, 0, 0],\n",
    "          [0, 0, 0, 0, 0, 0, 0],\n",
    "          [0, 2, 0, 0, 0, 0, 0],\n",
    "          [0, 2, 2, 2, 1, 0, 0],\n",
    "          [2, 1, 1, 2, 1, 0, 2],\n",
    "          [1, 1, 2, 1, 1, 1, 2]]\n"
   ]
  },
  {
   "cell_type": "code",
   "execution_count": 28,
   "id": "30ceca5b-36c5-4cba-9e52-8405aa4e5d60",
   "metadata": {},
   "outputs": [
    {
     "name": "stdout",
     "output_type": "stream",
     "text": [
      "Score do estado 1:  181\n",
      "Score do estado 2:  78\n"
     ]
    }
   ],
   "source": [
    "print(\"Score do estado 1: \", calculate_board_score(estado1, AI_PIECE, HUMAN_PIECE))\n",
    "print(\"Score do estado 2: \", calculate_board_score(estado2, AI_PIECE, HUMAN_PIECE))"
   ]
  },
  {
   "cell_type": "markdown",
   "id": "9ef81b4b-4ea3-4c59-a725-47662f99a3ac",
   "metadata": {},
   "source": [
    "---"
   ]
  },
  {
   "cell_type": "markdown",
   "id": "1959d4bc-fc3f-4c98-863a-344edc3ffaff",
   "metadata": {},
   "source": [
    "Agora que já podemos calcular as pontuções atríbuidas para cada estado, é necessário desenvolver algoritmos para escolher a melhor jogada.  "
   ]
  },
  {
   "cell_type": "markdown",
   "id": "95bc9d6f-9289-45b2-ae32-7ee939ab7512",
   "metadata": {},
   "source": [
    "## **A\\*** (a_star.py)\n",
    "\n",
    "O algoritmo A* é um método de decisão que escolhe a melhor coluna para uma jogada, baseando-se apenas na melhor pontuação das 7 possibilidades existentes imediatamente após o estado atual.  \n",
    "\n",
    "Para a sua implementação, criamos uma cópia do estado atual, realizamos uma jogada em cada coluna disponível e comparamos as pontuações obtidas com cada uma delas. A jogada que retornar a melhor pontuação será a escolhida. Simples assim."
   ]
  },
  {
   "cell_type": "code",
   "execution_count": 9,
   "id": "9946a4c2-1b77-427a-b475-4e27dacef01f",
   "metadata": {},
   "outputs": [],
   "source": [
    "def a_star(board: np.ndarray, ai_piece: int, opponent_piece: int) -> int:\n",
    "    \"\"\"Return the best column chose by A* algorithm\"\"\"\n",
    "    # start_time = time.time()\n",
    "    best_score = float('-inf')\n",
    "    best_move = -1\n",
    "    for col in available_moves(board):\n",
    "        simulated_board = simulate_move(board, ai_piece, col)\n",
    "        cur_score = calculate_board_score(simulated_board, ai_piece, opponent_piece)\n",
    "        if cur_score > best_score:\n",
    "            best_move = col\n",
    "            best_score = cur_score\n",
    "    # end_time = time.time()\n",
    "    # print(f\"Tempo de resposta = {end_time-start_time}\")\n",
    "    return best_move\n"
   ]
  },
  {
   "cell_type": "markdown",
   "id": "8c1ab700-ea00-4f35-8fbe-a975d1a57827",
   "metadata": {},
   "source": [
    "### Exemplo de utilização:\n",
    "\n",
    "Abaixo, utilizaremos o mesmo estado mostrado antes. O próximo jogador a jogar é o Player 2, que será controlado pelo A*. Logo, a coluna 5 é a melhor jogada, pois ele completaria uma linha horizontal com 4 peças, ganhando o jogo. Veremos como o algoritmo calcula a melhor jogada."
   ]
  },
  {
   "cell_type": "code",
   "execution_count": 10,
   "id": "b1470771-f99a-47ad-b89e-b25b7f4b8a84",
   "metadata": {},
   "outputs": [
    {
     "name": "stdout",
     "output_type": "stream",
     "text": [
      "Melhor jogada no estado 3 para o player 2: coluna 5\n"
     ]
    }
   ],
   "source": [
    "estado3 = np.ndarray(shape=(6, 7), dtype=int, buffer=np.array([[1, 1, 2, 1, 1, 1, 2],\n",
    "                                                              [0, 1, 1, 2, 1, 1, 0],\n",
    "                                                              [0, 2, 2, 2, 0, 0, 0],\n",
    "                                                              [0, 2, 0, 0, 0, 0, 0],\n",
    "                                                              [0, 0, 0, 0, 0, 0, 0],\n",
    "                                                              [0, 0, 0, 0, 0, 0, 0]]))\n",
    "\n",
    "\n",
    "print(\"Melhor jogada no estado 3 para o player 2: coluna\", a_star(estado3, AI_PIECE, HUMAN_PIECE)+1)"
   ]
  },
  {
   "cell_type": "markdown",
   "id": "829099e2-8091-4383-a3a0-71bca1c4a31d",
   "metadata": {},
   "source": [
    "Como vemos, o A* teve sucesso ao calcular a melhor jogada para a sua vitória. Porém, por não ser um algoritmo para jogos adversariais, ele não consegue evitar a vitória do oponente.  \n",
    "\n",
    "Embora tenhamos atribuído uma maior pontuação para sequências de 4 peças inimigas em relação á 4 peças aliadas, isso não é útil para o A*, uma vez que ele não consegue fazer previsões de jogadas do oponente. Esse algoritmo joga apenas procurando a sua própria vitória, independente do inimigo. Assim, só prejudica o jogo do outro jogador quando é para se beneficiar, mas não com o objetivo de evitar sua vitória inimiga.  \n",
    "Para corrigir essa falha, adaptamos o A* para que funcione como um jogo adversarial"
   ]
  },
  {
   "cell_type": "markdown",
   "id": "fadce8bb-7e95-47a8-b75d-693cd1832f4f",
   "metadata": {},
   "source": [
    "---\n",
    "\n",
    "## **A\\* Adversarial** (a_star.py)\n",
    "\n",
    "Nessa adaptação, o A* avalia qual seria a melhor opção de coluna por meio da simulação das duas jogadas seguintes ao estado atual. Primeiro ele simula o score the cada jogada, e para cada simulação, ele também simula a melhor jogada inimiga em cima de sua própria jogada. Assim, em vez de simular apenas a jogada imediatamente seguinte (como faz o A* original), ele consegue jogar para evitar que o inimigo tenha boas jogadas\n",
    ". \n",
    "Além disso, podemos fazer algo divertido para interagir com o jogador: mostrar uma dica de jogada optimal para o oponente, visto que ela já é calculada durante a previsão de jogada da IA.\n",
    "\n",
    "Com isso, resolvemos o problema do A* anterior, pois agora conseguimos jogar para evitar a vitória do oponente, caso ela fosse ocorrer logo na sua jogada seguinte. No entanto, ainda não conseguimos prever o jogo além das duas jogadas seguintes. Para isso, temos o MCTS e o AlphBeta, que conseguem prever um maior número de jogadas seguintes de forma mais eficiente.  "
   ]
  },
  {
   "cell_type": "code",
   "execution_count": 11,
   "id": "a17a7205-9d14-455f-b045-25381a0e37ad",
   "metadata": {},
   "outputs": [],
   "source": [
    "def a_star_adversarial(board: np.ndarray, ai_piece: int, opponent_piece: int) -> int:\n",
    "    \"\"\"Return the best column chose by predictive A* algorithm\"\"\"\n",
    "    start_time = time.time()\n",
    "    move_score = float('-inf')\n",
    "    best_move = -1\n",
    "    best_opponent = 0;\n",
    "    possible_moves = available_moves(board)\n",
    "    if len(possible_moves) == 1: return possible_moves[0]\n",
    "        \n",
    "    for col in possible_moves:\n",
    "        simulated_board = simulate_move(board, ai_piece, col)\n",
    "        if winning_move(simulated_board, AI_PIECE): return col\n",
    "            \n",
    "        opponent_col = a_star(simulated_board, opponent_piece, ai_piece)  \n",
    "        opponent_simulated_board = simulate_move(simulated_board, opponent_piece, opponent_col)\n",
    "        cur_score = calculate_board_score(opponent_simulated_board, ai_piece, opponent_piece)\n",
    "        if cur_score > move_score:\n",
    "            best_opponent = opponent_col + 1\n",
    "            best_move = col\n",
    "            move_score = cur_score\n",
    "    end_time = time.time()\n",
    "    print(f\"Tempo de resposta = {end_time-start_time}\")\n",
    "    print(\"Próximo passo sugerido para o oponente: coluna \" + str(best_opponent+1))\n",
    "    return best_move"
   ]
  },
  {
   "cell_type": "markdown",
   "id": "09e11726-bb3f-49d9-8d8b-ee7efcb4c455",
   "metadata": {},
   "source": [
    "### Exemplo de utilização:\n"
   ]
  },
  {
   "cell_type": "code",
   "execution_count": 12,
   "id": "d0afd7ef-ffe1-4f5b-89d3-8138471113f1",
   "metadata": {},
   "outputs": [],
   "source": [
    "estado4 = np.ndarray(shape=(6, 7), dtype=int, buffer=np.array([[1, 1, 2, 1, 1, 1, 2],\n",
    "                                                               [0, 1, 1, 2, 1, 1, 0],\n",
    "                                                               [0, 2, 2, 2, 0, 0, 0],\n",
    "                                                               [0, 2, 0, 0, 0, 0, 0],\n",
    "                                                               [0, 0, 0, 0, 0, 0, 0],\n",
    "                                                               [0, 0, 0, 0, 0, 0, 0]]))"
   ]
  },
  {
   "cell_type": "code",
   "execution_count": 13,
   "id": "00e5f233-304d-49f4-8349-526d1494abf9",
   "metadata": {},
   "outputs": [
    {
     "name": "stdout",
     "output_type": "stream",
     "text": [
      "Jogada escolhida para o Player 2: 5\n"
     ]
    }
   ],
   "source": [
    "print(\"Jogada escolhida para o Player 2:\", a_star_adversarial(estado4, AI_PIECE, HUMAN_PIECE)+1)"
   ]
  },
  {
   "cell_type": "markdown",
   "id": "4a6d0746-b859-4b07-b716-2579dfa9bd3f",
   "metadata": {},
   "source": [
    "Nota-se que não há sugestão de jogada seguinte, pois, como uma das jogadas leva a IA diretamente à vitória, a função é interrompida ao meio para retornar a coluna vencedora."
   ]
  },
  {
   "cell_type": "markdown",
   "id": "c6604585-9b1d-4a6e-a417-e64e705baaa5",
   "metadata": {},
   "source": [
    "---\n",
    "\n",
    "## **Alpha-Beta Pruning** (alpha_beta.py)\n",
    "\n",
    "O algoritmo Alpha-Beta percorre uma árvore completa, em que cada um de seus nós representa um estado do tabuleiro. A cada nível, o nó escolhido para retornar a pontuação é o da melhor jogada possível para o jogador atual.  \n",
    "Ou seja, ao calcular a melhor jogada no nível em que o oponente joga, é escolhido o nó com a pontuação mais negativa (que mais beneficia o oponente). Já no nível em que a IA joga, é escolhido o nó com maior pontuação. Ao final, escolhe-se qual das 7 possíveis jogadas da IA gera uma melhor pontuação a longo prazo, no decorrer do jogo.  \n",
    "A base dessa descrição é a mesma do algoritmo MiniMax, mas o AlphaBeta possui uma eficiência maior, uma vez que descarta galhos da árvore que já são perceptivelmente desnecessários. Assim, optamos por implementar apenas o Alpha-Beta, e não o MiniMax.\n",
    "\n",
    "#### Funcionamento\n",
    "Para que o algoritmo Alpha-Beta possa escolher a melhor jogada possível, ele também se utiliza da heurística. Para que o algoritmo funcione, precisamos definir um limite, caso contrário, ele testaria todas as opções possíveis, o que ultrapassa os recursos computacionais disponíveis. Para isso, optamos pr limitar o algorítmo pela profundidade (variável depht_limit).\n",
    "\n",
    "Com o limite escolhido, o Alpha-Beta percorre estados filhos até que encontre um estado em que o jogo termine, ou até atingir o limite de profundidade, e depois retorna o resultado da pontuação deste nó, atualizando os valores de mínimo e máximo. A partir daí, os nós pais alternam entre pegar a pontuação máxima onde as peças aliadas estão jogando e a pontuação mínima onde as peças inimigas estão jogando, aplicando cortes dos ramos com as atualizações de valores máximos e mínimos (alpha e beta). \n",
    "\n",
    "O nó raíz é o estado atual do jogo, que pega o maior score possível entre os filhos do nível 1, para maximizar as chances de vitória do jogador atual, no nível 2, simulamos a jogada do oponente supondo que ele escolha uma jogada que vai minimizar nosso score, e assim alternamos até o último nó alcançavel.\n"
   ]
  },
  {
   "cell_type": "code",
   "execution_count": 14,
   "id": "0e360f4e-5d34-4a12-ba43-4004a0842237",
   "metadata": {},
   "outputs": [],
   "source": [
    "def alpha_beta(board: np.ndarray) -> int:\n",
    "    \"\"\"Return the best column chose by alpha_beta algorithm\"\"\"\n",
    "    start_time = time.time()\n",
    "    children = get_children(board, AI_PIECE)\n",
    "    depth_limit = 5\n",
    "    best_move = -1\n",
    "    best_score = float('-inf')\n",
    "    for (child, col) in children:\n",
    "        if winning_move(child, AI_PIECE): \n",
    "            best_move = col\n",
    "            break\n",
    "        score = calculate(child, 0, float('-inf'), float('+inf'), depth_limit, False)\n",
    "        if score > best_score:\n",
    "            best_score = score\n",
    "            best_move = col\n",
    "    end_time = time.time()\n",
    "    print(f\"Tempo de resposta = {end_time-start_time}\")\n",
    "    return best_move\n",
    "\n",
    "\n",
    "def calculate(board: np.ndarray, depth: int, alpha: int, beta: int, depth_limit: int, maximizing: bool) -> int:\n",
    "    \"\"\"Return the accumulated score for this current move\"\"\"\n",
    "    if depth == depth_limit or winning_move(board, 1) or winning_move(board, 2) or is_game_tied(board):\n",
    "        return calculate_board_score(board, AI_PIECE, HUMAN_PIECE)\n",
    "    \n",
    "    if maximizing:\n",
    "        maxEval = float('-inf')\n",
    "        children = get_children(board, AI_PIECE)\n",
    "        for (child, col) in children:\n",
    "            eval = calculate(child, depth+1, alpha, beta, depth_limit, False)\n",
    "            maxEval = max(maxEval, eval)\n",
    "            alpha = max(alpha, eval)\n",
    "            if beta <= alpha:\n",
    "                break\n",
    "        return maxEval\n",
    "    \n",
    "    else:\n",
    "        minEval = float('+inf')\n",
    "        children = get_children(board, HUMAN_PIECE)\n",
    "        for (child, col) in children:\n",
    "            eval = calculate(child, depth+1, alpha, beta, depth_limit, True)\n",
    "            minEval = min(minEval, eval)\n",
    "            beta = min(beta, eval)\n",
    "            if beta <= alpha:\n",
    "                break\n",
    "        return minEval\n",
    "\n",
    "\n",
    "def get_children(board: np.ndarray, piece: int):\n",
    "    \"\"\"Return children of the actual state board\"\"\"\n",
    "    children = []\n",
    "    if available_moves(board) == -1: return children \n",
    "    for col in available_moves(board):  \n",
    "        copy_board = simulate_move(board, piece, col)   \n",
    "        children.append((copy_board, col)) \n",
    "    return children"
   ]
  },
  {
   "cell_type": "markdown",
   "id": "1e0a3808-3cdd-4b1b-852d-b631ada334e7",
   "metadata": {},
   "source": [
    "### Exemplo de utilização:\n",
    "\n",
    "Nessa implementação, fizemos uma pequena modificação no algoritmo Alpha Beta original: fazemos uma checagem inicial de vitória (entre as opções diretas de jogadas da IA). Com isso, o comportamento do algoritmo se aproxima mais do comportamento de um humano: se uma jogada gerar uma vitória, não checa mais nenhuma possibilidade e já seleciona aquela como a melhor jogada.\n",
    "Assim, em tabuleiros em que há uma vitória iminente da IA (como a seguir), o tempo de execução do algoritmo é muito menor."
   ]
  },
  {
   "cell_type": "code",
   "execution_count": 15,
   "id": "37845fb7-1ea9-4691-a073-6e881a45d7e5",
   "metadata": {},
   "outputs": [
    {
     "name": "stdout",
     "output_type": "stream",
     "text": [
      "Tempo de resposta = 0.9023516178131104\n",
      "Melhor jogada board4 para o jogador 2: 5\n"
     ]
    }
   ],
   "source": [
    "estado5 = np.ndarray(shape=(6, 7), dtype=int, buffer=np.array([[1, 1, 2, 1, 1, 1, 2],\n",
    "                                                               [0, 1, 1, 2, 1, 1, 0],\n",
    "                                                               [0, 2, 2, 2, 0, 0, 0],\n",
    "                                                               [0, 2, 0, 0, 0, 0, 0],\n",
    "                                                               [0, 0, 0, 0, 0, 0, 0],\n",
    "                                                               [0, 0, 0, 0, 0, 0, 0]]))\n",
    "\n",
    "print(\"Melhor jogada board4 para o jogador 2:\", alpha_beta(estado5)+1)"
   ]
  },
  {
   "cell_type": "markdown",
   "id": "c8296d13-5760-45d1-98f9-fc36f4cfe9e6",
   "metadata": {},
   "source": [
    "---\n",
    "\n",
    "## **Monte Carlo Tree Search** (mcts.py)"
   ]
  },
  {
   "cell_type": "markdown",
   "id": "3bce722c-69dd-49d4-bfe9-517aa3036cc5",
   "metadata": {},
   "source": [
    "\n",
    "\n",
    "***Classe Node**:* Representa um nó na árvore de busca do MCTS. Cada nó tem as seguintes informações:\n",
    "1. O estado atual do tabuleiro do jogo\n",
    "1. O nó pai, contendo informações como o estado anterior do tabuleiro\n",
    "2. Os nós filhos, contendo informações como os possíveis movimentos para se jogar e criar um novo tabuleiro.\n",
    "3. O número de visitas deste nó (vezes que já foi explorado)\n",
    "4. O número de vitórias deste nó (quantidade de vezes que esse nó leva à vitória nas simulações)\n",
    "5. O jogador atual do estado.\n",
    "  \n",
    "Funções:\n",
    "1. *ucb()*: calcula a UCB (Upper Confidence Bound) para balancear a exploração e a exploração durante a seleção de movimentos\n",
    "2. *add_children()*: adiciona possíveis movimentos (nós filhos) ao nó\n",
    "3. *score()*: retorna o valor da pontuação de um nó,calculado a partir das suas visitas e vitórias."
   ]
  },
  {
   "cell_type": "code",
   "execution_count": 16,
   "id": "bd3643fa-6473-4dbb-a6ba-2374da32ed8a",
   "metadata": {},
   "outputs": [],
   "source": [
    "@dataclass\n",
    "class Node:\n",
    "    def __init__(self, board, last_player, parent=None) -> None:\n",
    "        self.board = board\n",
    "        self.parent = parent\n",
    "        self.children = []\n",
    "        self.visits = 0\n",
    "        self.wins = 0  \n",
    "        self.current_player = 1 if last_player == 2 else 2\n",
    "\n",
    "    def __str__(self) -> str:\n",
    "        string = \"Vitórias: \" + str(self.wins) + '\\n'\n",
    "        string += \"Total: \" + str(self.visits) + '\\n'\n",
    "        string += \"Pontuação: \" + str(self.ucb()) + '\\n'\n",
    "        string += \"Probabilidade de vitória: \" + str(self.score()) + '\\n'\n",
    "        return string\n",
    "\n",
    "    def add_children(self) -> None:\n",
    "        \"\"\"add each possible move to a list of possible children for the current node/state\"\"\"  \n",
    "        if (len(self.children) != 0) or (available_moves(self.board) == -1): return   # se não existirem jogadas possíveis ou se os filhos já tiverem sido adicionados\n",
    "        for col in available_moves(self.board):  # itera sobre todas as colunas possíveis a serem jogadas\n",
    "            if self.current_player == HUMAN_PIECE:  \n",
    "                copy_board = simulate_move(self.board, AI_PIECE, col)\n",
    "            else: \n",
    "                copy_board = simulate_move(self.board, HUMAN_PIECE, col)    # cria uma cópia do tabuleiro atual e adiciona a nova jogada a ele\n",
    "            self.children.append((Node(board=copy_board, last_player=self.current_player, parent=self), col))  # adiciona cada tabuleiro gerado a uma lista, junto com a identificação da coluna que o gerou\n",
    "\n",
    "    def select_children(self):\n",
    "        \"\"\"randomly select a maximum of 4 children\"\"\"\n",
    "        if (len(self.children) > 4):\n",
    "            return random.sample(self.children, 4)\n",
    "        return self.children\n",
    "    \n",
    "    def ucb(self) -> float:\n",
    "        \"\"\"calculate the Upper Confidence Bound of the node\"\"\"\n",
    "        if self.visits == 0: return float('inf')\n",
    "        exploitation = self.wins / self.visits\n",
    "        exploration = sqrt(2) * sqrt(2 * log(self.parent.visits / self.visits, math.e)) if self.parent else 0\n",
    "        return exploitation + exploration\n",
    "    \n",
    "    def score(self) -> float:\n",
    "        \"\"\"calculate the score of the node\"\"\"\n",
    "        if self.visits == 0: return 0\n",
    "        return self.wins / self.visits"
   ]
  },
  {
   "cell_type": "markdown",
   "id": "a9a4bcc1-6fbf-47d2-a758-e1af37bc45d8",
   "metadata": {},
   "source": [
    "***Classe MCTS**:* Controla a busca MCTS a partir de um nó raiz. A função search executa a busca dentro de um limite de tempo. Durante a busca, são realizadas quatro etapas principais: seleção, expansão, simulação (rollout) e backpropagate.\n",
    "1. Início: A função *start()* expande todos os filhos do estado atual e faz 6 simulações em cada um deles antes de iniciar a lógica do mcts\n",
    "2. Pesquisa: A função *search()* itera sobre os nós da árvore, dentro do limite de tempo estabelecido, percorrendo a partir da raiz:  \n",
    "    \\- seleciona o nó folha que possui o caminho até ele pelos maiores ucb's  \n",
    "    \\- se o nó ainda não estiver participado de uma simulação, faz rollout sobre ele  \n",
    "    \\- se já tiver alguma visita, expande e simula uma vez sobre cada um dos 4 filhos selecionados na expansão\n",
    "2. Seleção: A função *select()* escolhe um nó folha da árvore para expandir/simular, iterando sobre ela baseado no UCB de cada nó.\n",
    "4. Expansão: A função *expand()* adiciona novos nós filhos (possíveis movimentos) à árvore e retorna, no máximo, 4 filhos a serem simulados.\n",
    "5. Simulação (Rollout): A função *rollout()* realiza simulações aleatórias do jogo até atingir um estado final de vitória ou empate.\n",
    "6. Backpropagate: A função *back_propagation()* adiciona +1 às visitas de cada nó, e se o jogador atual de cada nó for o mesmo que ganhou na simulação em rollout, adiciona também +1 às vitórias.\n",
    "\n",
    "*Função **mcts**:* Esta é a função de interface que inicializa a busca MCTS a partir do nó raiz e retorna a melhor coluna para o próximo movimento da AI."
   ]
  },
  {
   "cell_type": "code",
   "execution_count": 17,
   "id": "66550179-b964-4419-aedb-5064c5466ec7",
   "metadata": {},
   "outputs": [],
   "source": [
    "@dataclass\n",
    "class MCTS:\n",
    "    def __init__(self, root: Node) -> None:\n",
    "        self.root = root\n",
    "\n",
    "\n",
    "    def start(self, max_time: int):           \n",
    "        \"\"\"simulate 6 times through each children of the root, before running mcts\"\"\"\n",
    "        self.root.add_children()              \n",
    "        for child in self.root.children:                                  # itera sobre todos os filhos da root\n",
    "            if winning_move(child[0].board, AI_PIECE): return child[1]   # se alguma jogada já for vitoriosa, retorna\n",
    "            for _ in range(6):                                            # simula 6 vezes sobre cada filho\n",
    "                result = self.rollout(child[0])\n",
    "                self.back_propagation(child[0], result)\n",
    "        return self.search(max_time)                                      # inicia mcts\n",
    "    \n",
    "\n",
    "    def search(self, max_time: int) -> int:\n",
    "        \"\"\"iterate through the tree of possible plays\"\"\"\n",
    "        start_time = time.time()\n",
    "        while time.time() - start_time < max_time:  \n",
    "            selected_node = self.select(self.root)    # seleciona o nó folha a ser estudado nessa iteração\n",
    "            if selected_node.visits == 0:             # se o nó ainda não tiver sido visitado numa simulação:\n",
    "                result = self.rollout(selected_node)              # simula\n",
    "                self.back_propagation(selected_node, result)      # retropropagação da visita/vitória\n",
    "            else:\n",
    "                selected_children = self.expand(selected_node)     # se o nó já tiver sido simulado, expande e escolhe 4 filhos para simular\n",
    "                for child in selected_children:\n",
    "                    result = self.rollout(child[0])              # simula em cada um dos 4 filhos escolhidos\n",
    "                    self.back_propagation(child[0], result)      # retropropagação\n",
    "        return self.best_move()                                  # das possíveis jogadas, retorna a que gerou maior vitorias/visitas\n",
    "\n",
    "\n",
    "    def select(self, node: Node) ->  Node:\n",
    "        \"\"\"select a leaf node to be expanded/simulated\"\"\"\n",
    "        if node.children == []:           # caso base: o nó é uma folha\n",
    "            return node                   # retorna ele mesmo\n",
    "        else: \n",
    "            node = self.best_child(node)   # se o nó tiver filhos, escolhe o seu melhor filho\n",
    "            return self.select(node)       # seleciona o melhor nó folha do filho escolhido\n",
    "\n",
    "    \n",
    "    def best_child(self, node: Node) -> Node:\n",
    "        \"\"\"select the best child to be expanded/simulated based on their ucb's\"\"\"\n",
    "        best_child = None\n",
    "        best_score = float('-inf')\n",
    "        for (child, _) in node.children:\n",
    "            ucb = child.ucb() \n",
    "            if ucb > best_score:\n",
    "                best_child = child\n",
    "                best_score = ucb\n",
    "        return best_child\n",
    "\n",
    "\n",
    "    def back_propagation(self, node: Node, result: int) -> None:\n",
    "        \"\"\"go through the tree to update the score of each node above the current one\"\"\"\n",
    "        while node:                              # itera sobre todos os nós \"pais\" do último nó da simulação\n",
    "            node.visits += 1                     # anota que mais uma simulação foi feita sobre esse nó\n",
    "            if node.current_player == result:    # se o jogador desse nó tiver ganhado a partida simulada, anota mais uma vitória\n",
    "                node.wins+=1           \n",
    "            node = node.parent                   # passa ao pai do nó atual, para atualizar também o seu score\n",
    "    \n",
    "\n",
    "    def expand(self, node: Node) -> Node:\n",
    "        \"\"\"expand the node, by adding its children to the tree, and select 4 of them to be simulated\"\"\"\n",
    "        node.add_children() \n",
    "        return node.select_children()\n",
    "        \n",
    "        \n",
    "    def rollout(self, node: Node) -> int:\n",
    "        \"\"\"simulate a entire play until someone wins\"\"\"\n",
    "        board = node.board.copy()   # cria uma cópia do tabuleiro do nó para ser alterado\n",
    "        players = itertools.cycle([AI_PIECE, HUMAN_PIECE])  # cria uma iteração sobre os jogadores de cada nível\n",
    "        current_player = next(players)\n",
    "        while not (winning_move(board, AI_PIECE) or winning_move(board, HUMAN_PIECE)):   # continua a simulação até o jogo simulado acabar\n",
    "            if is_game_tied(board): return 0\n",
    "            current_player = next(players)\n",
    "            values = available_moves(board)   # seleciona as colunas disponpiveis a receberem jogadas\n",
    "            if values == -1:       # se não houver possibilidades de jogadas, retorna que não houve ganhador (empate)\n",
    "                current_player = 0\n",
    "                break\n",
    "            col = random.choice(values)    # escolhe aleatoriamente uma das possibilidades de jogada\n",
    "            board = simulate_move(board, current_player, col)  # simula a jogada escolhida\n",
    "        return current_player       # retorna o jogador da jogada vencedora (ou seja, quem ganhou a simulação)\n",
    "    \n",
    "\n",
    "    def best_move(self) -> int:\n",
    "        \"\"\"select the best column to be played based on their scores\"\"\"\n",
    "        max_score = float('-inf')\n",
    "        scores = {}    # armazena os pares (col, score)\n",
    "        columns = []   # armazena as colunas que têm o melhor score de vitórias\n",
    "        for (child, col) in self.root.children:   # para cada possível jogada...\n",
    "            score = child.score()      \n",
    "            print(f\"Coluna: {col}\")\n",
    "            print(child)\n",
    "            if score > max_score:        \n",
    "                max_score = score        # se esse for o novo melhor score, armazena como mehor\n",
    "            scores[col] = score          # adiciona o par (col, score) ao dicionário\n",
    "        for col, score in scores.items(): \n",
    "            if score == max_score:\n",
    "                columns.append(col)      # seleciona todos os filhos que geram o melhor score\n",
    "        return random.choice(columns)    # escolhe aleatoriamente um dos filhos com o melhor score\n",
    "\n",
    "\n",
    "def mcts(board: np.ndarray) -> int:\n",
    "    \"\"\"Should return the best column option, chose by mcts\"\"\"\n",
    "    root = Node(board=board, last_player=AI_PIECE)\n",
    "    mcts = MCTS(root)\n",
    "    column = mcts.start(3)\n",
    "    return column"
   ]
  },
  {
   "cell_type": "markdown",
   "id": "03ef8e6f-c246-4fe9-89c5-25be5fc9340c",
   "metadata": {},
   "source": [
    "### Exemplo de utilização:"
   ]
  },
  {
   "cell_type": "code",
   "execution_count": 18,
   "id": "06b69d13-aa12-4891-aaeb-e0a5f917dc92",
   "metadata": {},
   "outputs": [
    {
     "name": "stdout",
     "output_type": "stream",
     "text": [
      "Melhor jogada board4 para o jogador 2: 5\n"
     ]
    }
   ],
   "source": [
    "estado6 = np.ndarray(shape=(6, 7), dtype=int, buffer=np.array([[1, 1, 2, 1, 1, 1, 2],\n",
    "                                                               [0, 1, 1, 2, 1, 1, 0],\n",
    "                                                               [0, 2, 2, 2, 0, 0, 0],\n",
    "                                                               [0, 2, 0, 0, 0, 0, 0],\n",
    "                                                               [0, 0, 0, 0, 0, 0, 0],\n",
    "                                                               [0, 0, 0, 0, 0, 0, 0]]))\n",
    "\n",
    "print(\"Melhor jogada board4 para o jogador 2:\", mcts(estado6)+1)"
   ]
  },
  {
   "cell_type": "markdown",
   "id": "5e0226bc-9d6f-4bcd-a4ca-77ab2c48d3e1",
   "metadata": {},
   "source": [
    "---"
   ]
  },
  {
   "cell_type": "markdown",
   "id": "29dc7aca-36d5-401f-ab32-5564447f9a91",
   "metadata": {},
   "source": [
    "\n",
    "# **Jogando** (play_game)"
   ]
  },
  {
   "cell_type": "markdown",
   "id": "5ec7f1ef-fd1c-49b0-9f9e-e33a95d5784f",
   "metadata": {},
   "source": [
    "## interface.py\n",
    "Aqui ficam armazenadas as funções relacionadas à interface do jogo e a execução do jogo dentro de um loop while que se repete até algum jogador ganhar ou o jogo der empate. Para criar a interface, utilizamos a biblioteca pygame. As funções de lógica do jogo estão bem integradas com o pygame, mas optamos por retirar toda a parte da interface para que fosse possível testar os algorítmos. No código original é mais complexo."
   ]
  },
  {
   "cell_type": "code",
   "execution_count": 19,
   "id": "3c242f06-6f60-4cdd-9000-d664c4b5be36",
   "metadata": {},
   "outputs": [],
   "source": [
    "@dataclass\n",
    "class Interface:\n",
    "    rows: int = ROWS\n",
    "    columns: int = COLUMNS\n",
    "\n",
    "    def print_game_modes(self, value: int) -> None:\n",
    "        game_modes = {1: 'Human x Human',\n",
    "                      2: 'A*',\n",
    "                      3: 'Predictive A*',\n",
    "                      4: 'AlphaBeta',\n",
    "                      5: 'MCTS'}\n",
    "        print(f\"Modo de jogo escolhido: {game_modes[value]}\\n\")\n",
    "\n",
    "    def start_game(self, bd: Board) -> None:\n",
    "        \"\"\"Set up the conditions to the game, as choose game_mode and draw the pygame display\"\"\"\n",
    "        game_mode = int(input(\"Selecione um modo de jogo:\\n 1- A*\\n 2- Predictive A*\\n 3- AlphaBeta\\n 4- MCTS\\n\")) +1\n",
    "        # os.system('clear')\n",
    "        clear_output(wait=True)\n",
    "        self.print_game_modes(game_mode)\n",
    "        bd.print_board()\n",
    "        self.play_game(bd, game_mode)\n",
    "        \n",
    "    def play_game(self, bd: Board, game_mode: int) -> None:\n",
    "        \"\"\"Run the game\"\"\"\n",
    "        board = bd.get_board()\t\n",
    "        game_over = False\n",
    "        turns = itertools.cycle([1, 2])  \n",
    "        turn = next(turns)\n",
    "\n",
    "        while not game_over:\n",
    "            if turn == 1 or (turn == 2 and game_mode == 1):  # get human move\n",
    "                if not human_move(bd, board, turn, game_mode, self): continue  # make a move\n",
    "                if winning_move(board, turn): \n",
    "                    game_over = True\n",
    "                    break\n",
    "                turn = next(turns)\n",
    "            elif turn != 1 and game_mode != 1: \n",
    "                time.sleep(0.2)\n",
    "                game_over = ai_move(bd, game_mode, board, turn, self)\n",
    "                if game_over: break     \n",
    "                turn = next(turns)\n",
    "            # Evita que a ultima jogada no ultimo ponto possível retorne empate ao invès de vitória\n",
    "            if is_game_tied(board) and game_over == False:\n",
    "                print(f\"Empate!\")\n",
    "                break   \n",
    "        if not is_game_tied(board):\n",
    "            print(f\"Player {turn} venceu o jogo!\")"
   ]
  },
  {
   "cell_type": "markdown",
   "id": "177ad545-4cf2-4bc6-a5bf-a3fa38f5f1bf",
   "metadata": {},
   "source": [
    "## main.py\n",
    "Para executar o jogo, basta digitar python3 main.py. Isso acionará o método main() e instanciará um objeto Board, um objeto Interface e chamara a função para rodar o jogo(Interface.start_game())\n",
    "\n",
    "\n",
    "\n"
   ]
  },
  {
   "cell_type": "code",
   "execution_count": null,
   "id": "55ad0710-7f24-4ae0-bef3-33a7c19b5126",
   "metadata": {},
   "outputs": [
    {
     "name": "stdout",
     "output_type": "stream",
     "text": [
      "Modo de jogo escolhido: MCTS\n",
      "\n",
      "[[0. 0. 0. 0. 0. 0. 0.]\n",
      " [0. 0. 0. 0. 0. 0. 0.]\n",
      " [0. 0. 0. 0. 0. 0. 0.]\n",
      " [0. 0. 0. 0. 0. 0. 0.]\n",
      " [0. 0. 0. 0. 0. 0. 0.]\n",
      " [0. 0. 0. 0. 0. 0. 0.]] \n",
      "\n",
      "\n",
      "Escolha uma coluna de 1 a 7: "
     ]
    }
   ],
   "source": [
    "def main() -> None:\n",
    "    board = Board()\n",
    "    interface = Interface()\n",
    "    interface.start_game(board)\n",
    "    \n",
    "if __name__ == \"__main__\":\n",
    "    main()"
   ]
  }
 ],
 "metadata": {
  "kernelspec": {
   "display_name": "Python 3 (ipykernel)",
   "language": "python",
   "name": "python3"
  },
  "language_info": {
   "codemirror_mode": {
    "name": "ipython",
    "version": 3
   },
   "file_extension": ".py",
   "mimetype": "text/x-python",
   "name": "python",
   "nbconvert_exporter": "python",
   "pygments_lexer": "ipython3",
   "version": "3.10.12"
  }
 },
 "nbformat": 4,
 "nbformat_minor": 5
}
